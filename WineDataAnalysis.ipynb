{
 "cells": [
  {
   "cell_type": "code",
   "execution_count": 1,
   "id": "7bf1270f",
   "metadata": {},
   "outputs": [],
   "source": [
    "import pandas as pd\n",
    "import numpy as np\n",
    "import matplotlib.pyplot as plt\n",
    "\n",
    "from sklearn.preprocessing import StandardScaler\n",
    "from sklearn.model_selection import KFold, RepeatedKFold\n",
    "\n",
    "from sklearn.linear_model import LinearRegression, Lasso, Ridge, LassoCV, RidgeCV\n",
    "\n",
    "from sklearn.cluster import KMeans\n",
    "from sklearn.decomposition import PCA\n",
    "\n",
    "from sklearn.ensemble import RandomForestRegressor\n",
    "from sklearn.ensemble import BaggingRegressor\n",
    "from sklearn.ensemble import GradientBoostingRegressor"
   ]
  },
  {
   "cell_type": "markdown",
   "id": "75e759bc",
   "metadata": {},
   "source": [
    "# Getting data from scraped csv file"
   ]
  },
  {
   "cell_type": "code",
   "execution_count": 2,
   "id": "da989113",
   "metadata": {},
   "outputs": [
    {
     "data": {
      "text/html": [
       "<div>\n",
       "<style scoped>\n",
       "    .dataframe tbody tr th:only-of-type {\n",
       "        vertical-align: middle;\n",
       "    }\n",
       "\n",
       "    .dataframe tbody tr th {\n",
       "        vertical-align: top;\n",
       "    }\n",
       "\n",
       "    .dataframe thead th {\n",
       "        text-align: right;\n",
       "    }\n",
       "</style>\n",
       "<table border=\"1\" class=\"dataframe\">\n",
       "  <thead>\n",
       "    <tr style=\"text-align: right;\">\n",
       "      <th></th>\n",
       "      <th>Unnamed: 0</th>\n",
       "      <th>Id</th>\n",
       "      <th>Name</th>\n",
       "      <th>Price</th>\n",
       "      <th>Rating</th>\n",
       "      <th>NumRatings</th>\n",
       "      <th>Type</th>\n",
       "      <th>StyleName</th>\n",
       "      <th>Year</th>\n",
       "      <th>Body</th>\n",
       "      <th>Acidity</th>\n",
       "      <th>Vintage</th>\n",
       "      <th>Nat</th>\n",
       "      <th>Region</th>\n",
       "      <th>Country</th>\n",
       "      <th>Size</th>\n",
       "      <th>Winery</th>\n",
       "    </tr>\n",
       "  </thead>\n",
       "  <tbody>\n",
       "    <tr>\n",
       "      <th>0</th>\n",
       "      <td>0</td>\n",
       "      <td>1416855</td>\n",
       "      <td>Bota Box Redvolution 2011</td>\n",
       "      <td>5.02</td>\n",
       "      <td>3.5</td>\n",
       "      <td>1957</td>\n",
       "      <td>1</td>\n",
       "      <td>Californian Red Blend</td>\n",
       "      <td>2011</td>\n",
       "      <td>4</td>\n",
       "      <td>3</td>\n",
       "      <td>0</td>\n",
       "      <td>0</td>\n",
       "      <td>California</td>\n",
       "      <td>United States</td>\n",
       "      <td>500</td>\n",
       "      <td>Bota Box</td>\n",
       "    </tr>\n",
       "    <tr>\n",
       "      <th>1</th>\n",
       "      <td>1</td>\n",
       "      <td>88766858</td>\n",
       "      <td>Crane Lake Cabernet Sauvignon 2016</td>\n",
       "      <td>5.49</td>\n",
       "      <td>3.2</td>\n",
       "      <td>3101</td>\n",
       "      <td>1</td>\n",
       "      <td>Californian Cabernet Sauvignon</td>\n",
       "      <td>2016</td>\n",
       "      <td>4</td>\n",
       "      <td>3</td>\n",
       "      <td>0</td>\n",
       "      <td>0</td>\n",
       "      <td>California</td>\n",
       "      <td>United States</td>\n",
       "      <td>750</td>\n",
       "      <td>Crane Lake</td>\n",
       "    </tr>\n",
       "    <tr>\n",
       "      <th>2</th>\n",
       "      <td>2</td>\n",
       "      <td>141258254</td>\n",
       "      <td>Crane Lake Pinot Noir 2016</td>\n",
       "      <td>5.49</td>\n",
       "      <td>3.2</td>\n",
       "      <td>1466</td>\n",
       "      <td>1</td>\n",
       "      <td>Californian Pinot Noir</td>\n",
       "      <td>2016</td>\n",
       "      <td>3</td>\n",
       "      <td>3</td>\n",
       "      <td>0</td>\n",
       "      <td>0</td>\n",
       "      <td>California</td>\n",
       "      <td>United States</td>\n",
       "      <td>750</td>\n",
       "      <td>Crane Lake</td>\n",
       "    </tr>\n",
       "    <tr>\n",
       "      <th>3</th>\n",
       "      <td>3</td>\n",
       "      <td>157294384</td>\n",
       "      <td>Oro Bello Rosé Gold 2017</td>\n",
       "      <td>5.25</td>\n",
       "      <td>3.8</td>\n",
       "      <td>50</td>\n",
       "      <td>4</td>\n",
       "      <td>Californian Rosé</td>\n",
       "      <td>2017</td>\n",
       "      <td>3</td>\n",
       "      <td>2</td>\n",
       "      <td>0</td>\n",
       "      <td>0</td>\n",
       "      <td>California</td>\n",
       "      <td>United States</td>\n",
       "      <td>750</td>\n",
       "      <td>Oro Bello</td>\n",
       "    </tr>\n",
       "    <tr>\n",
       "      <th>4</th>\n",
       "      <td>4</td>\n",
       "      <td>1395988</td>\n",
       "      <td>Sutter Home White Zinfandel 2012</td>\n",
       "      <td>6.67</td>\n",
       "      <td>3.6</td>\n",
       "      <td>6112</td>\n",
       "      <td>4</td>\n",
       "      <td>NONE</td>\n",
       "      <td>2012</td>\n",
       "      <td>-1</td>\n",
       "      <td>-1</td>\n",
       "      <td>0</td>\n",
       "      <td>0</td>\n",
       "      <td>St. Helena</td>\n",
       "      <td>United States</td>\n",
       "      <td>750</td>\n",
       "      <td>Sutter Home</td>\n",
       "    </tr>\n",
       "  </tbody>\n",
       "</table>\n",
       "</div>"
      ],
      "text/plain": [
       "   Unnamed: 0         Id                                Name  Price  Rating  \\\n",
       "0           0    1416855           Bota Box Redvolution 2011   5.02     3.5   \n",
       "1           1   88766858  Crane Lake Cabernet Sauvignon 2016   5.49     3.2   \n",
       "2           2  141258254          Crane Lake Pinot Noir 2016   5.49     3.2   \n",
       "3           3  157294384            Oro Bello Rosé Gold 2017   5.25     3.8   \n",
       "4           4    1395988    Sutter Home White Zinfandel 2012   6.67     3.6   \n",
       "\n",
       "   NumRatings  Type                       StyleName  Year  Body  Acidity  \\\n",
       "0        1957     1           Californian Red Blend  2011     4        3   \n",
       "1        3101     1  Californian Cabernet Sauvignon  2016     4        3   \n",
       "2        1466     1          Californian Pinot Noir  2016     3        3   \n",
       "3          50     4                Californian Rosé  2017     3        2   \n",
       "4        6112     4                            NONE  2012    -1       -1   \n",
       "\n",
       "   Vintage  Nat      Region        Country  Size       Winery  \n",
       "0        0    0  California  United States   500     Bota Box  \n",
       "1        0    0  California  United States   750   Crane Lake  \n",
       "2        0    0  California  United States   750   Crane Lake  \n",
       "3        0    0  California  United States   750    Oro Bello  \n",
       "4        0    0  St. Helena  United States   750  Sutter Home  "
      ]
     },
     "execution_count": 2,
     "metadata": {},
     "output_type": "execute_result"
    }
   ],
   "source": [
    "df = pd.read_csv(\"WineData.csv\")\n",
    "df.head()"
   ]
  },
  {
   "cell_type": "markdown",
   "id": "2e5c41cd",
   "metadata": {},
   "source": [
    "# Cleaning the data"
   ]
  },
  {
   "cell_type": "code",
   "execution_count": 3,
   "id": "5e0e2d03",
   "metadata": {},
   "outputs": [
    {
     "data": {
      "text/plain": [
       "Index(['Unnamed: 0', 'Id', 'Name', 'Price', 'Rating', 'NumRatings', 'Type',\n",
       "       'StyleName', 'Year', 'Body', 'Acidity', 'Vintage', 'Nat', 'Region',\n",
       "       'Country', 'Size', 'Winery'],\n",
       "      dtype='object')"
      ]
     },
     "execution_count": 3,
     "metadata": {},
     "output_type": "execute_result"
    }
   ],
   "source": [
    "df.columns"
   ]
  },
  {
   "cell_type": "code",
   "execution_count": 4,
   "id": "08b01845",
   "metadata": {},
   "outputs": [
    {
     "data": {
      "text/html": [
       "<div>\n",
       "<style scoped>\n",
       "    .dataframe tbody tr th:only-of-type {\n",
       "        vertical-align: middle;\n",
       "    }\n",
       "\n",
       "    .dataframe tbody tr th {\n",
       "        vertical-align: top;\n",
       "    }\n",
       "\n",
       "    .dataframe thead th {\n",
       "        text-align: right;\n",
       "    }\n",
       "</style>\n",
       "<table border=\"1\" class=\"dataframe\">\n",
       "  <thead>\n",
       "    <tr style=\"text-align: right;\">\n",
       "      <th></th>\n",
       "      <th>Price</th>\n",
       "      <th>Rating</th>\n",
       "      <th>NumRatings</th>\n",
       "      <th>Type</th>\n",
       "      <th>Year</th>\n",
       "      <th>Body</th>\n",
       "      <th>Acidity</th>\n",
       "      <th>Vintage</th>\n",
       "      <th>Nat</th>\n",
       "      <th>Country</th>\n",
       "      <th>Size</th>\n",
       "    </tr>\n",
       "  </thead>\n",
       "  <tbody>\n",
       "    <tr>\n",
       "      <th>0</th>\n",
       "      <td>5.02</td>\n",
       "      <td>3.5</td>\n",
       "      <td>1957</td>\n",
       "      <td>1</td>\n",
       "      <td>2011</td>\n",
       "      <td>4</td>\n",
       "      <td>3</td>\n",
       "      <td>0</td>\n",
       "      <td>0</td>\n",
       "      <td>United States</td>\n",
       "      <td>500</td>\n",
       "    </tr>\n",
       "    <tr>\n",
       "      <th>1</th>\n",
       "      <td>5.49</td>\n",
       "      <td>3.2</td>\n",
       "      <td>3101</td>\n",
       "      <td>1</td>\n",
       "      <td>2016</td>\n",
       "      <td>4</td>\n",
       "      <td>3</td>\n",
       "      <td>0</td>\n",
       "      <td>0</td>\n",
       "      <td>United States</td>\n",
       "      <td>750</td>\n",
       "    </tr>\n",
       "    <tr>\n",
       "      <th>2</th>\n",
       "      <td>5.49</td>\n",
       "      <td>3.2</td>\n",
       "      <td>1466</td>\n",
       "      <td>1</td>\n",
       "      <td>2016</td>\n",
       "      <td>3</td>\n",
       "      <td>3</td>\n",
       "      <td>0</td>\n",
       "      <td>0</td>\n",
       "      <td>United States</td>\n",
       "      <td>750</td>\n",
       "    </tr>\n",
       "    <tr>\n",
       "      <th>3</th>\n",
       "      <td>5.25</td>\n",
       "      <td>3.8</td>\n",
       "      <td>50</td>\n",
       "      <td>4</td>\n",
       "      <td>2017</td>\n",
       "      <td>3</td>\n",
       "      <td>2</td>\n",
       "      <td>0</td>\n",
       "      <td>0</td>\n",
       "      <td>United States</td>\n",
       "      <td>750</td>\n",
       "    </tr>\n",
       "    <tr>\n",
       "      <th>6</th>\n",
       "      <td>7.08</td>\n",
       "      <td>3.7</td>\n",
       "      <td>7880</td>\n",
       "      <td>4</td>\n",
       "      <td>2018</td>\n",
       "      <td>3</td>\n",
       "      <td>2</td>\n",
       "      <td>0</td>\n",
       "      <td>0</td>\n",
       "      <td>United States</td>\n",
       "      <td>750</td>\n",
       "    </tr>\n",
       "  </tbody>\n",
       "</table>\n",
       "</div>"
      ],
      "text/plain": [
       "   Price  Rating  NumRatings  Type  Year  Body  Acidity  Vintage  Nat  \\\n",
       "0   5.02     3.5        1957     1  2011     4        3        0    0   \n",
       "1   5.49     3.2        3101     1  2016     4        3        0    0   \n",
       "2   5.49     3.2        1466     1  2016     3        3        0    0   \n",
       "3   5.25     3.8          50     4  2017     3        2        0    0   \n",
       "6   7.08     3.7        7880     4  2018     3        2        0    0   \n",
       "\n",
       "         Country  Size  \n",
       "0  United States   500  \n",
       "1  United States   750  \n",
       "2  United States   750  \n",
       "3  United States   750  \n",
       "6  United States   750  "
      ]
     },
     "execution_count": 4,
     "metadata": {},
     "output_type": "execute_result"
    }
   ],
   "source": [
    "#Drop all categorical/useless columns\n",
    "numeric = df.drop(columns=['Unnamed: 0', 'Id', 'Name', 'StyleName', 'Region', 'Winery'])\n",
    "#Drop all records with body or acidity = -1\n",
    "numeric = numeric.loc[~((numeric[\"Body\"] == -1) | (numeric[\"Acidity\"] == -1) | (numeric[\"Year\"] == 0))]\n",
    "numeric.head()"
   ]
  },
  {
   "cell_type": "code",
   "execution_count": 5,
   "id": "2e224e9d",
   "metadata": {},
   "outputs": [],
   "source": [
    "#Making dummy columns for each country\n",
    "countries = numeric.Country.unique()\n",
    "\n",
    "for country in countries:\n",
    "    numeric[country] = np.where(numeric[\"Country\"] == country, 1, 0)"
   ]
  },
  {
   "cell_type": "code",
   "execution_count": 6,
   "id": "7f3a04e1",
   "metadata": {},
   "outputs": [
    {
     "data": {
      "text/html": [
       "<div>\n",
       "<style scoped>\n",
       "    .dataframe tbody tr th:only-of-type {\n",
       "        vertical-align: middle;\n",
       "    }\n",
       "\n",
       "    .dataframe tbody tr th {\n",
       "        vertical-align: top;\n",
       "    }\n",
       "\n",
       "    .dataframe thead th {\n",
       "        text-align: right;\n",
       "    }\n",
       "</style>\n",
       "<table border=\"1\" class=\"dataframe\">\n",
       "  <thead>\n",
       "    <tr style=\"text-align: right;\">\n",
       "      <th></th>\n",
       "      <th>Price</th>\n",
       "      <th>Rating</th>\n",
       "      <th>NumRatings</th>\n",
       "      <th>Type</th>\n",
       "      <th>Year</th>\n",
       "      <th>Body</th>\n",
       "      <th>Acidity</th>\n",
       "      <th>Vintage</th>\n",
       "      <th>Nat</th>\n",
       "      <th>Size</th>\n",
       "      <th>...</th>\n",
       "      <th>NONE</th>\n",
       "      <th>Greece</th>\n",
       "      <th>Uruguay</th>\n",
       "      <th>Mexico</th>\n",
       "      <th>New Zealand</th>\n",
       "      <th>Germany</th>\n",
       "      <th>Hungary</th>\n",
       "      <th>Austria</th>\n",
       "      <th>Brazil</th>\n",
       "      <th>United Kingdom</th>\n",
       "    </tr>\n",
       "  </thead>\n",
       "  <tbody>\n",
       "    <tr>\n",
       "      <th>0</th>\n",
       "      <td>5.02</td>\n",
       "      <td>3.5</td>\n",
       "      <td>1957</td>\n",
       "      <td>1</td>\n",
       "      <td>2011</td>\n",
       "      <td>4</td>\n",
       "      <td>3</td>\n",
       "      <td>0</td>\n",
       "      <td>0</td>\n",
       "      <td>500</td>\n",
       "      <td>...</td>\n",
       "      <td>0</td>\n",
       "      <td>0</td>\n",
       "      <td>0</td>\n",
       "      <td>0</td>\n",
       "      <td>0</td>\n",
       "      <td>0</td>\n",
       "      <td>0</td>\n",
       "      <td>0</td>\n",
       "      <td>0</td>\n",
       "      <td>0</td>\n",
       "    </tr>\n",
       "    <tr>\n",
       "      <th>1</th>\n",
       "      <td>5.49</td>\n",
       "      <td>3.2</td>\n",
       "      <td>3101</td>\n",
       "      <td>1</td>\n",
       "      <td>2016</td>\n",
       "      <td>4</td>\n",
       "      <td>3</td>\n",
       "      <td>0</td>\n",
       "      <td>0</td>\n",
       "      <td>750</td>\n",
       "      <td>...</td>\n",
       "      <td>0</td>\n",
       "      <td>0</td>\n",
       "      <td>0</td>\n",
       "      <td>0</td>\n",
       "      <td>0</td>\n",
       "      <td>0</td>\n",
       "      <td>0</td>\n",
       "      <td>0</td>\n",
       "      <td>0</td>\n",
       "      <td>0</td>\n",
       "    </tr>\n",
       "    <tr>\n",
       "      <th>2</th>\n",
       "      <td>5.49</td>\n",
       "      <td>3.2</td>\n",
       "      <td>1466</td>\n",
       "      <td>1</td>\n",
       "      <td>2016</td>\n",
       "      <td>3</td>\n",
       "      <td>3</td>\n",
       "      <td>0</td>\n",
       "      <td>0</td>\n",
       "      <td>750</td>\n",
       "      <td>...</td>\n",
       "      <td>0</td>\n",
       "      <td>0</td>\n",
       "      <td>0</td>\n",
       "      <td>0</td>\n",
       "      <td>0</td>\n",
       "      <td>0</td>\n",
       "      <td>0</td>\n",
       "      <td>0</td>\n",
       "      <td>0</td>\n",
       "      <td>0</td>\n",
       "    </tr>\n",
       "    <tr>\n",
       "      <th>3</th>\n",
       "      <td>5.25</td>\n",
       "      <td>3.8</td>\n",
       "      <td>50</td>\n",
       "      <td>4</td>\n",
       "      <td>2017</td>\n",
       "      <td>3</td>\n",
       "      <td>2</td>\n",
       "      <td>0</td>\n",
       "      <td>0</td>\n",
       "      <td>750</td>\n",
       "      <td>...</td>\n",
       "      <td>0</td>\n",
       "      <td>0</td>\n",
       "      <td>0</td>\n",
       "      <td>0</td>\n",
       "      <td>0</td>\n",
       "      <td>0</td>\n",
       "      <td>0</td>\n",
       "      <td>0</td>\n",
       "      <td>0</td>\n",
       "      <td>0</td>\n",
       "    </tr>\n",
       "    <tr>\n",
       "      <th>4</th>\n",
       "      <td>7.08</td>\n",
       "      <td>3.7</td>\n",
       "      <td>7880</td>\n",
       "      <td>4</td>\n",
       "      <td>2018</td>\n",
       "      <td>3</td>\n",
       "      <td>2</td>\n",
       "      <td>0</td>\n",
       "      <td>0</td>\n",
       "      <td>750</td>\n",
       "      <td>...</td>\n",
       "      <td>0</td>\n",
       "      <td>0</td>\n",
       "      <td>0</td>\n",
       "      <td>0</td>\n",
       "      <td>0</td>\n",
       "      <td>0</td>\n",
       "      <td>0</td>\n",
       "      <td>0</td>\n",
       "      <td>0</td>\n",
       "      <td>0</td>\n",
       "    </tr>\n",
       "  </tbody>\n",
       "</table>\n",
       "<p>5 rows × 31 columns</p>\n",
       "</div>"
      ],
      "text/plain": [
       "   Price  Rating  NumRatings  Type  Year  Body  Acidity  Vintage  Nat  Size  \\\n",
       "0   5.02     3.5        1957     1  2011     4        3        0    0   500   \n",
       "1   5.49     3.2        3101     1  2016     4        3        0    0   750   \n",
       "2   5.49     3.2        1466     1  2016     3        3        0    0   750   \n",
       "3   5.25     3.8          50     4  2017     3        2        0    0   750   \n",
       "4   7.08     3.7        7880     4  2018     3        2        0    0   750   \n",
       "\n",
       "   ...  NONE  Greece  Uruguay  Mexico  New Zealand  Germany  Hungary  Austria  \\\n",
       "0  ...     0       0        0       0            0        0        0        0   \n",
       "1  ...     0       0        0       0            0        0        0        0   \n",
       "2  ...     0       0        0       0            0        0        0        0   \n",
       "3  ...     0       0        0       0            0        0        0        0   \n",
       "4  ...     0       0        0       0            0        0        0        0   \n",
       "\n",
       "   Brazil  United Kingdom  \n",
       "0       0               0  \n",
       "1       0               0  \n",
       "2       0               0  \n",
       "3       0               0  \n",
       "4       0               0  \n",
       "\n",
       "[5 rows x 31 columns]"
      ]
     },
     "execution_count": 6,
     "metadata": {},
     "output_type": "execute_result"
    }
   ],
   "source": [
    "#Remove country column and make final cleaned data\n",
    "data = numeric.drop(columns=[\"Country\"])\n",
    "data.reset_index(inplace=True,drop=True)\n",
    "data.head()"
   ]
  },
  {
   "cell_type": "markdown",
   "id": "d779e368",
   "metadata": {},
   "source": [
    "# TODO: Remove Outliers"
   ]
  },
  {
   "cell_type": "code",
   "execution_count": null,
   "id": "10f66d5c",
   "metadata": {},
   "outputs": [],
   "source": []
  },
  {
   "cell_type": "markdown",
   "id": "4ba8e93f",
   "metadata": {},
   "source": [
    "# Linear Regression on log price"
   ]
  },
  {
   "cell_type": "code",
   "execution_count": 7,
   "id": "ffe40c45",
   "metadata": {},
   "outputs": [
    {
     "data": {
      "text/html": [
       "<div>\n",
       "<style scoped>\n",
       "    .dataframe tbody tr th:only-of-type {\n",
       "        vertical-align: middle;\n",
       "    }\n",
       "\n",
       "    .dataframe tbody tr th {\n",
       "        vertical-align: top;\n",
       "    }\n",
       "\n",
       "    .dataframe thead th {\n",
       "        text-align: right;\n",
       "    }\n",
       "</style>\n",
       "<table border=\"1\" class=\"dataframe\">\n",
       "  <thead>\n",
       "    <tr style=\"text-align: right;\">\n",
       "      <th></th>\n",
       "      <th>Rating</th>\n",
       "      <th>NumRatings</th>\n",
       "      <th>Type</th>\n",
       "      <th>Year</th>\n",
       "      <th>Body</th>\n",
       "      <th>Acidity</th>\n",
       "      <th>Vintage</th>\n",
       "      <th>Nat</th>\n",
       "      <th>Size</th>\n",
       "      <th>United States</th>\n",
       "      <th>...</th>\n",
       "      <th>NONE</th>\n",
       "      <th>Greece</th>\n",
       "      <th>Uruguay</th>\n",
       "      <th>Mexico</th>\n",
       "      <th>New Zealand</th>\n",
       "      <th>Germany</th>\n",
       "      <th>Hungary</th>\n",
       "      <th>Austria</th>\n",
       "      <th>Brazil</th>\n",
       "      <th>United Kingdom</th>\n",
       "    </tr>\n",
       "  </thead>\n",
       "  <tbody>\n",
       "    <tr>\n",
       "      <th>0</th>\n",
       "      <td>3.5</td>\n",
       "      <td>1957</td>\n",
       "      <td>1</td>\n",
       "      <td>2011</td>\n",
       "      <td>4</td>\n",
       "      <td>3</td>\n",
       "      <td>0</td>\n",
       "      <td>0</td>\n",
       "      <td>500</td>\n",
       "      <td>1</td>\n",
       "      <td>...</td>\n",
       "      <td>0</td>\n",
       "      <td>0</td>\n",
       "      <td>0</td>\n",
       "      <td>0</td>\n",
       "      <td>0</td>\n",
       "      <td>0</td>\n",
       "      <td>0</td>\n",
       "      <td>0</td>\n",
       "      <td>0</td>\n",
       "      <td>0</td>\n",
       "    </tr>\n",
       "    <tr>\n",
       "      <th>1</th>\n",
       "      <td>3.2</td>\n",
       "      <td>3101</td>\n",
       "      <td>1</td>\n",
       "      <td>2016</td>\n",
       "      <td>4</td>\n",
       "      <td>3</td>\n",
       "      <td>0</td>\n",
       "      <td>0</td>\n",
       "      <td>750</td>\n",
       "      <td>1</td>\n",
       "      <td>...</td>\n",
       "      <td>0</td>\n",
       "      <td>0</td>\n",
       "      <td>0</td>\n",
       "      <td>0</td>\n",
       "      <td>0</td>\n",
       "      <td>0</td>\n",
       "      <td>0</td>\n",
       "      <td>0</td>\n",
       "      <td>0</td>\n",
       "      <td>0</td>\n",
       "    </tr>\n",
       "    <tr>\n",
       "      <th>2</th>\n",
       "      <td>3.2</td>\n",
       "      <td>1466</td>\n",
       "      <td>1</td>\n",
       "      <td>2016</td>\n",
       "      <td>3</td>\n",
       "      <td>3</td>\n",
       "      <td>0</td>\n",
       "      <td>0</td>\n",
       "      <td>750</td>\n",
       "      <td>1</td>\n",
       "      <td>...</td>\n",
       "      <td>0</td>\n",
       "      <td>0</td>\n",
       "      <td>0</td>\n",
       "      <td>0</td>\n",
       "      <td>0</td>\n",
       "      <td>0</td>\n",
       "      <td>0</td>\n",
       "      <td>0</td>\n",
       "      <td>0</td>\n",
       "      <td>0</td>\n",
       "    </tr>\n",
       "    <tr>\n",
       "      <th>3</th>\n",
       "      <td>3.8</td>\n",
       "      <td>50</td>\n",
       "      <td>4</td>\n",
       "      <td>2017</td>\n",
       "      <td>3</td>\n",
       "      <td>2</td>\n",
       "      <td>0</td>\n",
       "      <td>0</td>\n",
       "      <td>750</td>\n",
       "      <td>1</td>\n",
       "      <td>...</td>\n",
       "      <td>0</td>\n",
       "      <td>0</td>\n",
       "      <td>0</td>\n",
       "      <td>0</td>\n",
       "      <td>0</td>\n",
       "      <td>0</td>\n",
       "      <td>0</td>\n",
       "      <td>0</td>\n",
       "      <td>0</td>\n",
       "      <td>0</td>\n",
       "    </tr>\n",
       "    <tr>\n",
       "      <th>4</th>\n",
       "      <td>3.7</td>\n",
       "      <td>7880</td>\n",
       "      <td>4</td>\n",
       "      <td>2018</td>\n",
       "      <td>3</td>\n",
       "      <td>2</td>\n",
       "      <td>0</td>\n",
       "      <td>0</td>\n",
       "      <td>750</td>\n",
       "      <td>1</td>\n",
       "      <td>...</td>\n",
       "      <td>0</td>\n",
       "      <td>0</td>\n",
       "      <td>0</td>\n",
       "      <td>0</td>\n",
       "      <td>0</td>\n",
       "      <td>0</td>\n",
       "      <td>0</td>\n",
       "      <td>0</td>\n",
       "      <td>0</td>\n",
       "      <td>0</td>\n",
       "    </tr>\n",
       "  </tbody>\n",
       "</table>\n",
       "<p>5 rows × 30 columns</p>\n",
       "</div>"
      ],
      "text/plain": [
       "   Rating  NumRatings  Type  Year  Body  Acidity  Vintage  Nat  Size  \\\n",
       "0     3.5        1957     1  2011     4        3        0    0   500   \n",
       "1     3.2        3101     1  2016     4        3        0    0   750   \n",
       "2     3.2        1466     1  2016     3        3        0    0   750   \n",
       "3     3.8          50     4  2017     3        2        0    0   750   \n",
       "4     3.7        7880     4  2018     3        2        0    0   750   \n",
       "\n",
       "   United States  ...  NONE  Greece  Uruguay  Mexico  New Zealand  Germany  \\\n",
       "0              1  ...     0       0        0       0            0        0   \n",
       "1              1  ...     0       0        0       0            0        0   \n",
       "2              1  ...     0       0        0       0            0        0   \n",
       "3              1  ...     0       0        0       0            0        0   \n",
       "4              1  ...     0       0        0       0            0        0   \n",
       "\n",
       "   Hungary  Austria  Brazil  United Kingdom  \n",
       "0        0        0       0               0  \n",
       "1        0        0       0               0  \n",
       "2        0        0       0               0  \n",
       "3        0        0       0               0  \n",
       "4        0        0       0               0  \n",
       "\n",
       "[5 rows x 30 columns]"
      ]
     },
     "execution_count": 7,
     "metadata": {},
     "output_type": "execute_result"
    }
   ],
   "source": [
    "#Create X and y\n",
    "#Create log price column\n",
    "data['log_price'] = np.log(data[\"Price\"])\n",
    "\n",
    "#X is every column but log price, y is only log price\n",
    "X = data.drop(columns=[\"log_price\",\"Price\"])\n",
    "y = data[[\"log_price\"]]\n",
    "X.head()"
   ]
  },
  {
   "cell_type": "markdown",
   "id": "d1433ae0",
   "metadata": {},
   "source": [
    "# Linear Regression with scaled data"
   ]
  },
  {
   "cell_type": "code",
   "execution_count": 8,
   "id": "0001cdf0",
   "metadata": {},
   "outputs": [
    {
     "data": {
      "text/plain": [
       "0.6799687472224125"
      ]
     },
     "execution_count": 8,
     "metadata": {},
     "output_type": "execute_result"
    }
   ],
   "source": [
    "#Scale X\n",
    "scaler = StandardScaler().fit(X)\n",
    "X_scaled = scaler.transform(X)\n",
    "X_scaled = pd.DataFrame(X_scaled, columns=X.columns)\n",
    "\n",
    "reg = LinearRegression().fit(X_scaled, y)\n",
    "reg.score(X_scaled, y)"
   ]
  },
  {
   "cell_type": "code",
   "execution_count": 11,
   "id": "c4f54a3f",
   "metadata": {},
   "outputs": [
    {
     "data": {
      "text/plain": [
       "array([[  7.05338031],\n",
       "       [  5.3534978 ],\n",
       "       [  6.26881321],\n",
       "       ...,\n",
       "       [122.50125023],\n",
       "       [147.41339706],\n",
       "       [ 40.36335267]])"
      ]
     },
     "execution_count": 11,
     "metadata": {},
     "output_type": "execute_result"
    }
   ],
   "source": [
    "np.exp(reg.predict(X_scaled))"
   ]
  },
  {
   "cell_type": "markdown",
   "id": "0d1b9184",
   "metadata": {},
   "source": [
    "# PCA Linear Regression with scaling"
   ]
  },
  {
   "cell_type": "code",
   "execution_count": 24,
   "id": "3d708beb",
   "metadata": {},
   "outputs": [
    {
     "data": {
      "text/plain": [
       "0.5371966901283736"
      ]
     },
     "execution_count": 24,
     "metadata": {},
     "output_type": "execute_result"
    }
   ],
   "source": [
    "#Scale X\n",
    "scaler = StandardScaler().fit(X)\n",
    "X_scaled = scaler.transform(X)\n",
    "X_scaled = pd.DataFrame(X_scaled, columns=X.columns)\n",
    "\n",
    "#Transform X\n",
    "pca_scaled = PCA(n_components=len(list(X_scaled.columns)))\n",
    "X_transformed = pca_scaled.fit_transform(X_scaled)\n",
    "X_transformed = X_transformed[:, :15]\n",
    "\n",
    "#Train on X scaled and transformed\n",
    "reg = LinearRegression().fit(X_transformed, y)\n",
    "reg.score(X_transformed, y)"
   ]
  },
  {
   "cell_type": "code",
   "execution_count": 25,
   "id": "e7e0d23a",
   "metadata": {},
   "outputs": [
    {
     "data": {
      "text/plain": [
       "array([[ 8.42996422],\n",
       "       [ 7.70594391],\n",
       "       [ 8.08955904],\n",
       "       ...,\n",
       "       [66.45593336],\n",
       "       [66.94631131],\n",
       "       [26.27288416]])"
      ]
     },
     "execution_count": 25,
     "metadata": {},
     "output_type": "execute_result"
    }
   ],
   "source": [
    "np.exp(reg.predict(X_transformed[:,:]))"
   ]
  },
  {
   "cell_type": "markdown",
   "id": "d5ef6080",
   "metadata": {},
   "source": [
    "# Straight Gradient Boosting"
   ]
  },
  {
   "cell_type": "code",
   "execution_count": 14,
   "id": "e7254cc0",
   "metadata": {},
   "outputs": [
    {
     "name": "stderr",
     "output_type": "stream",
     "text": [
      "/Users/vaughncampos/opt/anaconda3/lib/python3.8/site-packages/sklearn/utils/validation.py:63: DataConversionWarning: A column-vector y was passed when a 1d array was expected. Please change the shape of y to (n_samples, ), for example using ravel().\n",
      "  return f(*args, **kwargs)\n"
     ]
    },
    {
     "data": {
      "text/plain": [
       "0.9194966787625258"
      ]
     },
     "execution_count": 14,
     "metadata": {},
     "output_type": "execute_result"
    }
   ],
   "source": [
    "reg = GradientBoostingRegressor().fit(X, y)\n",
    "reg.score(X, y)"
   ]
  },
  {
   "cell_type": "code",
   "execution_count": 15,
   "id": "4f8ae195",
   "metadata": {},
   "outputs": [
    {
     "data": {
      "text/plain": [
       "array([  7.88316275,   9.05999147,   9.13010406, ..., 436.81829434,\n",
       "       300.53741959,  22.69975446])"
      ]
     },
     "execution_count": 15,
     "metadata": {},
     "output_type": "execute_result"
    }
   ],
   "source": [
    "np.exp(reg.predict(X))"
   ]
  },
  {
   "cell_type": "markdown",
   "id": "4799d4dd",
   "metadata": {},
   "source": [
    "# GradientBoosting regression with scaling"
   ]
  },
  {
   "cell_type": "code",
   "execution_count": 17,
   "id": "f235323f",
   "metadata": {},
   "outputs": [
    {
     "name": "stderr",
     "output_type": "stream",
     "text": [
      "/Users/vaughncampos/opt/anaconda3/lib/python3.8/site-packages/sklearn/utils/validation.py:63: DataConversionWarning: A column-vector y was passed when a 1d array was expected. Please change the shape of y to (n_samples, ), for example using ravel().\n",
      "  return f(*args, **kwargs)\n"
     ]
    },
    {
     "data": {
      "text/plain": [
       "0.9194966787625258"
      ]
     },
     "execution_count": 17,
     "metadata": {},
     "output_type": "execute_result"
    }
   ],
   "source": [
    "scaler = StandardScaler().fit(X)\n",
    "X_scaled = scaler.transform(X)\n",
    "X_scaled = pd.DataFrame(X_scaled, columns=X.columns)\n",
    "\n",
    "reg = GradientBoostingRegressor().fit(X_scaled, y)\n",
    "reg.score(X_scaled, y)"
   ]
  },
  {
   "cell_type": "code",
   "execution_count": 18,
   "id": "a75ceccd",
   "metadata": {},
   "outputs": [
    {
     "data": {
      "text/plain": [
       "array([  7.88316275,   9.05999147,   9.13010406, ..., 436.81829434,\n",
       "       300.53741959,  22.69975446])"
      ]
     },
     "execution_count": 18,
     "metadata": {},
     "output_type": "execute_result"
    }
   ],
   "source": [
    "np.exp(reg.predict(X_scaled))"
   ]
  },
  {
   "cell_type": "markdown",
   "id": "bb60365e",
   "metadata": {},
   "source": [
    "# PCA GradientBoosting regression with scaling"
   ]
  },
  {
   "cell_type": "code",
   "execution_count": 28,
   "id": "108b040d",
   "metadata": {},
   "outputs": [
    {
     "name": "stderr",
     "output_type": "stream",
     "text": [
      "/Users/vaughncampos/opt/anaconda3/lib/python3.8/site-packages/sklearn/utils/validation.py:63: DataConversionWarning: A column-vector y was passed when a 1d array was expected. Please change the shape of y to (n_samples, ), for example using ravel().\n",
      "  return f(*args, **kwargs)\n"
     ]
    },
    {
     "data": {
      "text/plain": [
       "0.9074566551141494"
      ]
     },
     "execution_count": 28,
     "metadata": {},
     "output_type": "execute_result"
    }
   ],
   "source": [
    "#Scale X\n",
    "scaler = StandardScaler().fit(X)\n",
    "X_scaled = scaler.transform(X)\n",
    "X_scaled = pd.DataFrame(X_scaled, columns=X.columns)\n",
    "\n",
    "#Transform X\n",
    "pca_scaled = PCA(n_components=len(list(X_scaled.columns)))\n",
    "X_transformed = pca_scaled.fit_transform(X_scaled)\n",
    "X_transformed = X_transformed[:, :10]\n",
    "\n",
    "#Train on X scaled and transformed\n",
    "reg = GradientBoostingRegressor().fit(X_transformed, y)\n",
    "reg.score(X_transformed, y)"
   ]
  },
  {
   "cell_type": "code",
   "execution_count": 29,
   "id": "4a598746",
   "metadata": {},
   "outputs": [
    {
     "data": {
      "text/plain": [
       "array([ 10.27943425,   9.9137894 ,  10.33711909, ..., 395.87033649,\n",
       "       329.6152157 ,  21.04016726])"
      ]
     },
     "execution_count": 29,
     "metadata": {},
     "output_type": "execute_result"
    }
   ],
   "source": [
    "np.exp(reg.predict(X_transformed[:,:10]))"
   ]
  },
  {
   "cell_type": "markdown",
   "id": "64f25bf4",
   "metadata": {},
   "source": [
    "# PCA RandomForest regression with scaling"
   ]
  },
  {
   "cell_type": "code",
   "execution_count": 30,
   "id": "3824af05",
   "metadata": {},
   "outputs": [
    {
     "name": "stderr",
     "output_type": "stream",
     "text": [
      "<ipython-input-30-2df941268393>:12: DataConversionWarning: A column-vector y was passed when a 1d array was expected. Please change the shape of y to (n_samples,), for example using ravel().\n",
      "  reg = RandomForestRegressor().fit(X_transformed, y)\n"
     ]
    },
    {
     "data": {
      "text/plain": [
       "0.9847216876868712"
      ]
     },
     "execution_count": 30,
     "metadata": {},
     "output_type": "execute_result"
    }
   ],
   "source": [
    "#Scale X\n",
    "scaler = StandardScaler().fit(X)\n",
    "X_scaled = scaler.transform(X)\n",
    "X_scaled = pd.DataFrame(X_scaled, columns=X.columns)\n",
    "\n",
    "#Transform X\n",
    "pca_scaled = PCA(n_components=len(list(X_scaled.columns)))\n",
    "X_transformed = pca_scaled.fit_transform(X_scaled)\n",
    "X_transformed = X_transformed[:, :10]\n",
    "\n",
    "#Train on X scaled and transformed\n",
    "reg = RandomForestRegressor().fit(X_transformed, y)\n",
    "reg.score(X_transformed, y)"
   ]
  },
  {
   "cell_type": "code",
   "execution_count": 31,
   "id": "39fe39c4",
   "metadata": {},
   "outputs": [
    {
     "data": {
      "text/plain": [
       "array([  6.48731026,   6.11766532,   7.45736293, ..., 419.55939984,\n",
       "       316.8144252 ,  15.29349059])"
      ]
     },
     "execution_count": 31,
     "metadata": {},
     "output_type": "execute_result"
    }
   ],
   "source": [
    "np.exp(reg.predict(X_transformed[:,:10]))"
   ]
  },
  {
   "cell_type": "markdown",
   "id": "faaa1705",
   "metadata": {},
   "source": [
    "# PCA Bagging regression with scaling"
   ]
  },
  {
   "cell_type": "code",
   "execution_count": 34,
   "id": "4fd93791",
   "metadata": {},
   "outputs": [
    {
     "name": "stderr",
     "output_type": "stream",
     "text": [
      "/Users/vaughncampos/opt/anaconda3/lib/python3.8/site-packages/sklearn/utils/validation.py:63: DataConversionWarning: A column-vector y was passed when a 1d array was expected. Please change the shape of y to (n_samples, ), for example using ravel().\n",
      "  return f(*args, **kwargs)\n"
     ]
    },
    {
     "data": {
      "text/plain": [
       "0.9798869787483762"
      ]
     },
     "execution_count": 34,
     "metadata": {},
     "output_type": "execute_result"
    }
   ],
   "source": [
    "#Scale X\n",
    "scaler = StandardScaler().fit(X)\n",
    "X_scaled = scaler.transform(X)\n",
    "X_scaled = pd.DataFrame(X_scaled, columns=X.columns)\n",
    "\n",
    "#Transform X\n",
    "pca_scaled = PCA(n_components=len(list(X_scaled.columns)))\n",
    "X_transformed = pca_scaled.fit_transform(X_scaled)\n",
    "X_transformed = X_transformed[:, :10]\n",
    "\n",
    "#Train on X scaled and transformed\n",
    "reg = BaggingRegressor().fit(X_transformed, y)\n",
    "reg.score(X_transformed, y)"
   ]
  },
  {
   "cell_type": "code",
   "execution_count": 35,
   "id": "ad2fde86",
   "metadata": {},
   "outputs": [
    {
     "data": {
      "text/plain": [
       "array([  5.86397126,   6.57907979,   6.56226587, ..., 416.40017769,\n",
       "       429.67444959,  16.68069912])"
      ]
     },
     "execution_count": 35,
     "metadata": {},
     "output_type": "execute_result"
    }
   ],
   "source": [
    "np.exp(reg.predict(X_transformed[:,:10]))"
   ]
  },
  {
   "cell_type": "code",
   "execution_count": 21,
   "id": "c1e303dc",
   "metadata": {},
   "outputs": [
    {
     "data": {
      "text/html": [
       "<div>\n",
       "<style scoped>\n",
       "    .dataframe tbody tr th:only-of-type {\n",
       "        vertical-align: middle;\n",
       "    }\n",
       "\n",
       "    .dataframe tbody tr th {\n",
       "        vertical-align: top;\n",
       "    }\n",
       "\n",
       "    .dataframe thead th {\n",
       "        text-align: right;\n",
       "    }\n",
       "</style>\n",
       "<table border=\"1\" class=\"dataframe\">\n",
       "  <thead>\n",
       "    <tr style=\"text-align: right;\">\n",
       "      <th></th>\n",
       "      <th>Price</th>\n",
       "      <th>Rating</th>\n",
       "      <th>NumRatings</th>\n",
       "      <th>Type</th>\n",
       "      <th>Year</th>\n",
       "      <th>Body</th>\n",
       "      <th>Acidity</th>\n",
       "      <th>Vintage</th>\n",
       "      <th>Nat</th>\n",
       "      <th>Size</th>\n",
       "      <th>...</th>\n",
       "      <th>Greece</th>\n",
       "      <th>Uruguay</th>\n",
       "      <th>Mexico</th>\n",
       "      <th>New Zealand</th>\n",
       "      <th>Germany</th>\n",
       "      <th>Hungary</th>\n",
       "      <th>Austria</th>\n",
       "      <th>Brazil</th>\n",
       "      <th>United Kingdom</th>\n",
       "      <th>log_price</th>\n",
       "    </tr>\n",
       "  </thead>\n",
       "  <tbody>\n",
       "    <tr>\n",
       "      <th>0</th>\n",
       "      <td>5.02</td>\n",
       "      <td>3.5</td>\n",
       "      <td>1957</td>\n",
       "      <td>1</td>\n",
       "      <td>2011</td>\n",
       "      <td>4</td>\n",
       "      <td>3</td>\n",
       "      <td>0</td>\n",
       "      <td>0</td>\n",
       "      <td>500</td>\n",
       "      <td>...</td>\n",
       "      <td>0</td>\n",
       "      <td>0</td>\n",
       "      <td>0</td>\n",
       "      <td>0</td>\n",
       "      <td>0</td>\n",
       "      <td>0</td>\n",
       "      <td>0</td>\n",
       "      <td>0</td>\n",
       "      <td>0</td>\n",
       "      <td>1.613430</td>\n",
       "    </tr>\n",
       "    <tr>\n",
       "      <th>1</th>\n",
       "      <td>5.49</td>\n",
       "      <td>3.2</td>\n",
       "      <td>3101</td>\n",
       "      <td>1</td>\n",
       "      <td>2016</td>\n",
       "      <td>4</td>\n",
       "      <td>3</td>\n",
       "      <td>0</td>\n",
       "      <td>0</td>\n",
       "      <td>750</td>\n",
       "      <td>...</td>\n",
       "      <td>0</td>\n",
       "      <td>0</td>\n",
       "      <td>0</td>\n",
       "      <td>0</td>\n",
       "      <td>0</td>\n",
       "      <td>0</td>\n",
       "      <td>0</td>\n",
       "      <td>0</td>\n",
       "      <td>0</td>\n",
       "      <td>1.702928</td>\n",
       "    </tr>\n",
       "    <tr>\n",
       "      <th>2</th>\n",
       "      <td>5.49</td>\n",
       "      <td>3.2</td>\n",
       "      <td>1466</td>\n",
       "      <td>1</td>\n",
       "      <td>2016</td>\n",
       "      <td>3</td>\n",
       "      <td>3</td>\n",
       "      <td>0</td>\n",
       "      <td>0</td>\n",
       "      <td>750</td>\n",
       "      <td>...</td>\n",
       "      <td>0</td>\n",
       "      <td>0</td>\n",
       "      <td>0</td>\n",
       "      <td>0</td>\n",
       "      <td>0</td>\n",
       "      <td>0</td>\n",
       "      <td>0</td>\n",
       "      <td>0</td>\n",
       "      <td>0</td>\n",
       "      <td>1.702928</td>\n",
       "    </tr>\n",
       "    <tr>\n",
       "      <th>3</th>\n",
       "      <td>5.25</td>\n",
       "      <td>3.8</td>\n",
       "      <td>50</td>\n",
       "      <td>4</td>\n",
       "      <td>2017</td>\n",
       "      <td>3</td>\n",
       "      <td>2</td>\n",
       "      <td>0</td>\n",
       "      <td>0</td>\n",
       "      <td>750</td>\n",
       "      <td>...</td>\n",
       "      <td>0</td>\n",
       "      <td>0</td>\n",
       "      <td>0</td>\n",
       "      <td>0</td>\n",
       "      <td>0</td>\n",
       "      <td>0</td>\n",
       "      <td>0</td>\n",
       "      <td>0</td>\n",
       "      <td>0</td>\n",
       "      <td>1.658228</td>\n",
       "    </tr>\n",
       "    <tr>\n",
       "      <th>4</th>\n",
       "      <td>7.08</td>\n",
       "      <td>3.7</td>\n",
       "      <td>7880</td>\n",
       "      <td>4</td>\n",
       "      <td>2018</td>\n",
       "      <td>3</td>\n",
       "      <td>2</td>\n",
       "      <td>0</td>\n",
       "      <td>0</td>\n",
       "      <td>750</td>\n",
       "      <td>...</td>\n",
       "      <td>0</td>\n",
       "      <td>0</td>\n",
       "      <td>0</td>\n",
       "      <td>0</td>\n",
       "      <td>0</td>\n",
       "      <td>0</td>\n",
       "      <td>0</td>\n",
       "      <td>0</td>\n",
       "      <td>0</td>\n",
       "      <td>1.957274</td>\n",
       "    </tr>\n",
       "    <tr>\n",
       "      <th>...</th>\n",
       "      <td>...</td>\n",
       "      <td>...</td>\n",
       "      <td>...</td>\n",
       "      <td>...</td>\n",
       "      <td>...</td>\n",
       "      <td>...</td>\n",
       "      <td>...</td>\n",
       "      <td>...</td>\n",
       "      <td>...</td>\n",
       "      <td>...</td>\n",
       "      <td>...</td>\n",
       "      <td>...</td>\n",
       "      <td>...</td>\n",
       "      <td>...</td>\n",
       "      <td>...</td>\n",
       "      <td>...</td>\n",
       "      <td>...</td>\n",
       "      <td>...</td>\n",
       "      <td>...</td>\n",
       "      <td>...</td>\n",
       "      <td>...</td>\n",
       "    </tr>\n",
       "    <tr>\n",
       "      <th>4924</th>\n",
       "      <td>29.00</td>\n",
       "      <td>3.9</td>\n",
       "      <td>744</td>\n",
       "      <td>3</td>\n",
       "      <td>2017</td>\n",
       "      <td>1</td>\n",
       "      <td>3</td>\n",
       "      <td>0</td>\n",
       "      <td>0</td>\n",
       "      <td>750</td>\n",
       "      <td>...</td>\n",
       "      <td>0</td>\n",
       "      <td>0</td>\n",
       "      <td>0</td>\n",
       "      <td>0</td>\n",
       "      <td>0</td>\n",
       "      <td>0</td>\n",
       "      <td>0</td>\n",
       "      <td>0</td>\n",
       "      <td>0</td>\n",
       "      <td>3.367296</td>\n",
       "    </tr>\n",
       "    <tr>\n",
       "      <th>4925</th>\n",
       "      <td>89.99</td>\n",
       "      <td>4.1</td>\n",
       "      <td>2208</td>\n",
       "      <td>3</td>\n",
       "      <td>2007</td>\n",
       "      <td>3</td>\n",
       "      <td>3</td>\n",
       "      <td>0</td>\n",
       "      <td>0</td>\n",
       "      <td>750</td>\n",
       "      <td>...</td>\n",
       "      <td>0</td>\n",
       "      <td>0</td>\n",
       "      <td>0</td>\n",
       "      <td>0</td>\n",
       "      <td>0</td>\n",
       "      <td>0</td>\n",
       "      <td>0</td>\n",
       "      <td>0</td>\n",
       "      <td>0</td>\n",
       "      <td>4.499699</td>\n",
       "    </tr>\n",
       "    <tr>\n",
       "      <th>4926</th>\n",
       "      <td>385.00</td>\n",
       "      <td>4.6</td>\n",
       "      <td>37809</td>\n",
       "      <td>3</td>\n",
       "      <td>2000</td>\n",
       "      <td>3</td>\n",
       "      <td>3</td>\n",
       "      <td>0</td>\n",
       "      <td>0</td>\n",
       "      <td>750</td>\n",
       "      <td>...</td>\n",
       "      <td>0</td>\n",
       "      <td>0</td>\n",
       "      <td>0</td>\n",
       "      <td>0</td>\n",
       "      <td>0</td>\n",
       "      <td>0</td>\n",
       "      <td>0</td>\n",
       "      <td>0</td>\n",
       "      <td>0</td>\n",
       "      <td>5.953243</td>\n",
       "    </tr>\n",
       "    <tr>\n",
       "      <th>4927</th>\n",
       "      <td>175.00</td>\n",
       "      <td>4.7</td>\n",
       "      <td>92</td>\n",
       "      <td>3</td>\n",
       "      <td>2008</td>\n",
       "      <td>3</td>\n",
       "      <td>3</td>\n",
       "      <td>0</td>\n",
       "      <td>0</td>\n",
       "      <td>750</td>\n",
       "      <td>...</td>\n",
       "      <td>0</td>\n",
       "      <td>0</td>\n",
       "      <td>0</td>\n",
       "      <td>0</td>\n",
       "      <td>0</td>\n",
       "      <td>0</td>\n",
       "      <td>0</td>\n",
       "      <td>0</td>\n",
       "      <td>0</td>\n",
       "      <td>5.164786</td>\n",
       "    </tr>\n",
       "    <tr>\n",
       "      <th>4928</th>\n",
       "      <td>13.98</td>\n",
       "      <td>4.2</td>\n",
       "      <td>6210</td>\n",
       "      <td>3</td>\n",
       "      <td>2018</td>\n",
       "      <td>2</td>\n",
       "      <td>3</td>\n",
       "      <td>0</td>\n",
       "      <td>0</td>\n",
       "      <td>750</td>\n",
       "      <td>...</td>\n",
       "      <td>0</td>\n",
       "      <td>0</td>\n",
       "      <td>0</td>\n",
       "      <td>0</td>\n",
       "      <td>0</td>\n",
       "      <td>0</td>\n",
       "      <td>0</td>\n",
       "      <td>0</td>\n",
       "      <td>0</td>\n",
       "      <td>2.637628</td>\n",
       "    </tr>\n",
       "  </tbody>\n",
       "</table>\n",
       "<p>4929 rows × 32 columns</p>\n",
       "</div>"
      ],
      "text/plain": [
       "       Price  Rating  NumRatings  Type  Year  Body  Acidity  Vintage  Nat  \\\n",
       "0       5.02     3.5        1957     1  2011     4        3        0    0   \n",
       "1       5.49     3.2        3101     1  2016     4        3        0    0   \n",
       "2       5.49     3.2        1466     1  2016     3        3        0    0   \n",
       "3       5.25     3.8          50     4  2017     3        2        0    0   \n",
       "4       7.08     3.7        7880     4  2018     3        2        0    0   \n",
       "...      ...     ...         ...   ...   ...   ...      ...      ...  ...   \n",
       "4924   29.00     3.9         744     3  2017     1        3        0    0   \n",
       "4925   89.99     4.1        2208     3  2007     3        3        0    0   \n",
       "4926  385.00     4.6       37809     3  2000     3        3        0    0   \n",
       "4927  175.00     4.7          92     3  2008     3        3        0    0   \n",
       "4928   13.98     4.2        6210     3  2018     2        3        0    0   \n",
       "\n",
       "      Size  ...  Greece  Uruguay  Mexico  New Zealand  Germany  Hungary  \\\n",
       "0      500  ...       0        0       0            0        0        0   \n",
       "1      750  ...       0        0       0            0        0        0   \n",
       "2      750  ...       0        0       0            0        0        0   \n",
       "3      750  ...       0        0       0            0        0        0   \n",
       "4      750  ...       0        0       0            0        0        0   \n",
       "...    ...  ...     ...      ...     ...          ...      ...      ...   \n",
       "4924   750  ...       0        0       0            0        0        0   \n",
       "4925   750  ...       0        0       0            0        0        0   \n",
       "4926   750  ...       0        0       0            0        0        0   \n",
       "4927   750  ...       0        0       0            0        0        0   \n",
       "4928   750  ...       0        0       0            0        0        0   \n",
       "\n",
       "      Austria  Brazil  United Kingdom  log_price  \n",
       "0           0       0               0   1.613430  \n",
       "1           0       0               0   1.702928  \n",
       "2           0       0               0   1.702928  \n",
       "3           0       0               0   1.658228  \n",
       "4           0       0               0   1.957274  \n",
       "...       ...     ...             ...        ...  \n",
       "4924        0       0               0   3.367296  \n",
       "4925        0       0               0   4.499699  \n",
       "4926        0       0               0   5.953243  \n",
       "4927        0       0               0   5.164786  \n",
       "4928        0       0               0   2.637628  \n",
       "\n",
       "[4929 rows x 32 columns]"
      ]
     },
     "execution_count": 21,
     "metadata": {},
     "output_type": "execute_result"
    }
   ],
   "source": [
    "data"
   ]
  },
  {
   "cell_type": "markdown",
   "id": "0184ccf4",
   "metadata": {},
   "source": [
    "# Linear Regression Observations\n",
    "Straight linear regression "
   ]
  },
  {
   "cell_type": "markdown",
   "id": "376f2b2a",
   "metadata": {},
   "source": [
    "# KMeans Clustering"
   ]
  },
  {
   "cell_type": "code",
   "execution_count": null,
   "id": "7c36dd56",
   "metadata": {},
   "outputs": [],
   "source": [
    "index = len(data)*(2/3)\n",
    "X_train, X_test = data.loc[:index,:], data.loc[index:,:]"
   ]
  },
  {
   "cell_type": "code",
   "execution_count": null,
   "id": "f83689c3",
   "metadata": {},
   "outputs": [],
   "source": [
    "X_train, X_test"
   ]
  },
  {
   "cell_type": "code",
   "execution_count": null,
   "id": "79a6bdfe",
   "metadata": {},
   "outputs": [],
   "source": [
    "#Kmeans\n",
    "kmeans = KMeans(n_clusters=10, random_state=0).fit(X_train)"
   ]
  },
  {
   "cell_type": "code",
   "execution_count": null,
   "id": "68e73b7e",
   "metadata": {},
   "outputs": [],
   "source": [
    "cluster_map = pd.DataFrame()\n",
    "cluster_map['data_index'] = X_train.index.values\n",
    "cluster_map['cluster'] = kmeans.labels_\n",
    "\n",
    "cluster_indexs = {}\n",
    "for cluster in range(10):\n",
    "    cluster_indexs[cluster] = cluster_map[cluster_map.cluster == cluster].data_index.values\n",
    "cluster_indexs"
   ]
  },
  {
   "cell_type": "code",
   "execution_count": null,
   "id": "06fbc1f0",
   "metadata": {},
   "outputs": [],
   "source": []
  }
 ],
 "metadata": {
  "kernelspec": {
   "display_name": "Python 3",
   "language": "python",
   "name": "python3"
  },
  "language_info": {
   "codemirror_mode": {
    "name": "ipython",
    "version": 3
   },
   "file_extension": ".py",
   "mimetype": "text/x-python",
   "name": "python",
   "nbconvert_exporter": "python",
   "pygments_lexer": "ipython3",
   "version": "3.8.8"
  }
 },
 "nbformat": 4,
 "nbformat_minor": 5
}
