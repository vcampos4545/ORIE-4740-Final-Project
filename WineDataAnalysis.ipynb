{
 "cells": [
  {
   "cell_type": "code",
   "execution_count": 1,
   "id": "7bf1270f",
   "metadata": {},
   "outputs": [],
   "source": [
    "import pandas as pd\n",
    "import numpy as np\n",
    "import matplotlib.pyplot as plt"
   ]
  },
  {
   "cell_type": "markdown",
   "id": "75e759bc",
   "metadata": {},
   "source": [
    "# Getting data from scraped csv file"
   ]
  },
  {
   "cell_type": "code",
   "execution_count": 2,
   "id": "da989113",
   "metadata": {},
   "outputs": [
    {
     "data": {
      "text/html": [
       "<div>\n",
       "<style scoped>\n",
       "    .dataframe tbody tr th:only-of-type {\n",
       "        vertical-align: middle;\n",
       "    }\n",
       "\n",
       "    .dataframe tbody tr th {\n",
       "        vertical-align: top;\n",
       "    }\n",
       "\n",
       "    .dataframe thead th {\n",
       "        text-align: right;\n",
       "    }\n",
       "</style>\n",
       "<table border=\"1\" class=\"dataframe\">\n",
       "  <thead>\n",
       "    <tr style=\"text-align: right;\">\n",
       "      <th></th>\n",
       "      <th>Unnamed: 0</th>\n",
       "      <th>Id</th>\n",
       "      <th>Name</th>\n",
       "      <th>Price</th>\n",
       "      <th>Rating</th>\n",
       "      <th>NumRatings</th>\n",
       "      <th>Type</th>\n",
       "      <th>StyleName</th>\n",
       "      <th>Year</th>\n",
       "      <th>Body</th>\n",
       "      <th>Acidity</th>\n",
       "      <th>Vintage</th>\n",
       "      <th>Nat</th>\n",
       "      <th>Region</th>\n",
       "      <th>Country</th>\n",
       "      <th>Size</th>\n",
       "      <th>Winery</th>\n",
       "    </tr>\n",
       "  </thead>\n",
       "  <tbody>\n",
       "    <tr>\n",
       "      <th>0</th>\n",
       "      <td>0</td>\n",
       "      <td>1416855</td>\n",
       "      <td>Bota Box Redvolution 2011</td>\n",
       "      <td>5.02</td>\n",
       "      <td>3.5</td>\n",
       "      <td>1957</td>\n",
       "      <td>1</td>\n",
       "      <td>Californian Red Blend</td>\n",
       "      <td>2011</td>\n",
       "      <td>4</td>\n",
       "      <td>3</td>\n",
       "      <td>0</td>\n",
       "      <td>0</td>\n",
       "      <td>California</td>\n",
       "      <td>United States</td>\n",
       "      <td>500</td>\n",
       "      <td>Bota Box</td>\n",
       "    </tr>\n",
       "    <tr>\n",
       "      <th>1</th>\n",
       "      <td>1</td>\n",
       "      <td>88766858</td>\n",
       "      <td>Crane Lake Cabernet Sauvignon 2016</td>\n",
       "      <td>5.49</td>\n",
       "      <td>3.2</td>\n",
       "      <td>3101</td>\n",
       "      <td>1</td>\n",
       "      <td>Californian Cabernet Sauvignon</td>\n",
       "      <td>2016</td>\n",
       "      <td>4</td>\n",
       "      <td>3</td>\n",
       "      <td>0</td>\n",
       "      <td>0</td>\n",
       "      <td>California</td>\n",
       "      <td>United States</td>\n",
       "      <td>750</td>\n",
       "      <td>Crane Lake</td>\n",
       "    </tr>\n",
       "    <tr>\n",
       "      <th>2</th>\n",
       "      <td>2</td>\n",
       "      <td>141258254</td>\n",
       "      <td>Crane Lake Pinot Noir 2016</td>\n",
       "      <td>5.49</td>\n",
       "      <td>3.2</td>\n",
       "      <td>1466</td>\n",
       "      <td>1</td>\n",
       "      <td>Californian Pinot Noir</td>\n",
       "      <td>2016</td>\n",
       "      <td>3</td>\n",
       "      <td>3</td>\n",
       "      <td>0</td>\n",
       "      <td>0</td>\n",
       "      <td>California</td>\n",
       "      <td>United States</td>\n",
       "      <td>750</td>\n",
       "      <td>Crane Lake</td>\n",
       "    </tr>\n",
       "    <tr>\n",
       "      <th>3</th>\n",
       "      <td>3</td>\n",
       "      <td>157294384</td>\n",
       "      <td>Oro Bello Rosé Gold 2017</td>\n",
       "      <td>5.25</td>\n",
       "      <td>3.8</td>\n",
       "      <td>50</td>\n",
       "      <td>4</td>\n",
       "      <td>Californian Rosé</td>\n",
       "      <td>2017</td>\n",
       "      <td>3</td>\n",
       "      <td>2</td>\n",
       "      <td>0</td>\n",
       "      <td>0</td>\n",
       "      <td>California</td>\n",
       "      <td>United States</td>\n",
       "      <td>750</td>\n",
       "      <td>Oro Bello</td>\n",
       "    </tr>\n",
       "    <tr>\n",
       "      <th>4</th>\n",
       "      <td>4</td>\n",
       "      <td>1395988</td>\n",
       "      <td>Sutter Home White Zinfandel 2012</td>\n",
       "      <td>6.67</td>\n",
       "      <td>3.6</td>\n",
       "      <td>6112</td>\n",
       "      <td>4</td>\n",
       "      <td>NONE</td>\n",
       "      <td>2012</td>\n",
       "      <td>-1</td>\n",
       "      <td>-1</td>\n",
       "      <td>0</td>\n",
       "      <td>0</td>\n",
       "      <td>St. Helena</td>\n",
       "      <td>United States</td>\n",
       "      <td>750</td>\n",
       "      <td>Sutter Home</td>\n",
       "    </tr>\n",
       "  </tbody>\n",
       "</table>\n",
       "</div>"
      ],
      "text/plain": [
       "   Unnamed: 0         Id                                Name  Price  Rating  \\\n",
       "0           0    1416855           Bota Box Redvolution 2011   5.02     3.5   \n",
       "1           1   88766858  Crane Lake Cabernet Sauvignon 2016   5.49     3.2   \n",
       "2           2  141258254          Crane Lake Pinot Noir 2016   5.49     3.2   \n",
       "3           3  157294384            Oro Bello Rosé Gold 2017   5.25     3.8   \n",
       "4           4    1395988    Sutter Home White Zinfandel 2012   6.67     3.6   \n",
       "\n",
       "   NumRatings  Type                       StyleName  Year  Body  Acidity  \\\n",
       "0        1957     1           Californian Red Blend  2011     4        3   \n",
       "1        3101     1  Californian Cabernet Sauvignon  2016     4        3   \n",
       "2        1466     1          Californian Pinot Noir  2016     3        3   \n",
       "3          50     4                Californian Rosé  2017     3        2   \n",
       "4        6112     4                            NONE  2012    -1       -1   \n",
       "\n",
       "   Vintage  Nat      Region        Country  Size       Winery  \n",
       "0        0    0  California  United States   500     Bota Box  \n",
       "1        0    0  California  United States   750   Crane Lake  \n",
       "2        0    0  California  United States   750   Crane Lake  \n",
       "3        0    0  California  United States   750    Oro Bello  \n",
       "4        0    0  St. Helena  United States   750  Sutter Home  "
      ]
     },
     "execution_count": 2,
     "metadata": {},
     "output_type": "execute_result"
    }
   ],
   "source": [
    "df = pd.read_csv(\"WineData.csv\")\n",
    "df.head()"
   ]
  },
  {
   "cell_type": "markdown",
   "id": "2e5c41cd",
   "metadata": {},
   "source": [
    "# Cleaning the data"
   ]
  },
  {
   "cell_type": "code",
   "execution_count": 3,
   "id": "5e0e2d03",
   "metadata": {},
   "outputs": [
    {
     "data": {
      "text/plain": [
       "Index(['Unnamed: 0', 'Id', 'Name', 'Price', 'Rating', 'NumRatings', 'Type',\n",
       "       'StyleName', 'Year', 'Body', 'Acidity', 'Vintage', 'Nat', 'Region',\n",
       "       'Country', 'Size', 'Winery'],\n",
       "      dtype='object')"
      ]
     },
     "execution_count": 3,
     "metadata": {},
     "output_type": "execute_result"
    }
   ],
   "source": [
    "df.columns"
   ]
  },
  {
   "cell_type": "code",
   "execution_count": 4,
   "id": "08b01845",
   "metadata": {},
   "outputs": [
    {
     "data": {
      "text/html": [
       "<div>\n",
       "<style scoped>\n",
       "    .dataframe tbody tr th:only-of-type {\n",
       "        vertical-align: middle;\n",
       "    }\n",
       "\n",
       "    .dataframe tbody tr th {\n",
       "        vertical-align: top;\n",
       "    }\n",
       "\n",
       "    .dataframe thead th {\n",
       "        text-align: right;\n",
       "    }\n",
       "</style>\n",
       "<table border=\"1\" class=\"dataframe\">\n",
       "  <thead>\n",
       "    <tr style=\"text-align: right;\">\n",
       "      <th></th>\n",
       "      <th>Price</th>\n",
       "      <th>Rating</th>\n",
       "      <th>NumRatings</th>\n",
       "      <th>Type</th>\n",
       "      <th>Year</th>\n",
       "      <th>Body</th>\n",
       "      <th>Acidity</th>\n",
       "      <th>Vintage</th>\n",
       "      <th>Nat</th>\n",
       "      <th>Size</th>\n",
       "    </tr>\n",
       "  </thead>\n",
       "  <tbody>\n",
       "    <tr>\n",
       "      <th>0</th>\n",
       "      <td>5.02</td>\n",
       "      <td>3.5</td>\n",
       "      <td>1957</td>\n",
       "      <td>1</td>\n",
       "      <td>2011</td>\n",
       "      <td>4</td>\n",
       "      <td>3</td>\n",
       "      <td>0</td>\n",
       "      <td>0</td>\n",
       "      <td>500</td>\n",
       "    </tr>\n",
       "    <tr>\n",
       "      <th>1</th>\n",
       "      <td>5.49</td>\n",
       "      <td>3.2</td>\n",
       "      <td>3101</td>\n",
       "      <td>1</td>\n",
       "      <td>2016</td>\n",
       "      <td>4</td>\n",
       "      <td>3</td>\n",
       "      <td>0</td>\n",
       "      <td>0</td>\n",
       "      <td>750</td>\n",
       "    </tr>\n",
       "    <tr>\n",
       "      <th>2</th>\n",
       "      <td>5.49</td>\n",
       "      <td>3.2</td>\n",
       "      <td>1466</td>\n",
       "      <td>1</td>\n",
       "      <td>2016</td>\n",
       "      <td>3</td>\n",
       "      <td>3</td>\n",
       "      <td>0</td>\n",
       "      <td>0</td>\n",
       "      <td>750</td>\n",
       "    </tr>\n",
       "    <tr>\n",
       "      <th>3</th>\n",
       "      <td>5.25</td>\n",
       "      <td>3.8</td>\n",
       "      <td>50</td>\n",
       "      <td>4</td>\n",
       "      <td>2017</td>\n",
       "      <td>3</td>\n",
       "      <td>2</td>\n",
       "      <td>0</td>\n",
       "      <td>0</td>\n",
       "      <td>750</td>\n",
       "    </tr>\n",
       "    <tr>\n",
       "      <th>4</th>\n",
       "      <td>6.67</td>\n",
       "      <td>3.6</td>\n",
       "      <td>6112</td>\n",
       "      <td>4</td>\n",
       "      <td>2012</td>\n",
       "      <td>-1</td>\n",
       "      <td>-1</td>\n",
       "      <td>0</td>\n",
       "      <td>0</td>\n",
       "      <td>750</td>\n",
       "    </tr>\n",
       "  </tbody>\n",
       "</table>\n",
       "</div>"
      ],
      "text/plain": [
       "   Price  Rating  NumRatings  Type  Year  Body  Acidity  Vintage  Nat  Size\n",
       "0   5.02     3.5        1957     1  2011     4        3        0    0   500\n",
       "1   5.49     3.2        3101     1  2016     4        3        0    0   750\n",
       "2   5.49     3.2        1466     1  2016     3        3        0    0   750\n",
       "3   5.25     3.8          50     4  2017     3        2        0    0   750\n",
       "4   6.67     3.6        6112     4  2012    -1       -1        0    0   750"
      ]
     },
     "execution_count": 4,
     "metadata": {},
     "output_type": "execute_result"
    }
   ],
   "source": [
    "#Drop all categorical/useless columns\n",
    "numeric = df.drop(columns=['Unnamed: 0', 'Id', 'Name', 'StyleName', 'Region', 'Country', 'Winery'])\n",
    "numeric.head()"
   ]
  },
  {
   "cell_type": "markdown",
   "id": "60a9655c",
   "metadata": {},
   "source": [
    "# Exploratory Data Analysis"
   ]
  },
  {
   "cell_type": "code",
   "execution_count": 5,
   "id": "2518dfc5",
   "metadata": {},
   "outputs": [],
   "source": [
    "from sklearn.cluster import KMeans\n",
    "from sklearn.decomposition import PCA"
   ]
  },
  {
   "cell_type": "code",
   "execution_count": 6,
   "id": "461df14d",
   "metadata": {},
   "outputs": [
    {
     "name": "stdout",
     "output_type": "stream",
     "text": [
      "[9.94728905e-01 4.97831598e-03 2.32836076e-04 5.98708342e-05\n",
      " 6.13397632e-08 7.91656777e-09 1.99594930e-09 4.57872707e-10\n",
      " 2.13305326e-10 1.41388267e-10]\n"
     ]
    }
   ],
   "source": [
    "#PCA without normalization\n",
    "pca = PCA(n_components=len(list(numeric.columns)))\n",
    "pca.fit(numeric)\n",
    "print(pca.explained_variance_ratio_)"
   ]
  },
  {
   "cell_type": "code",
   "execution_count": 7,
   "id": "204e481c",
   "metadata": {},
   "outputs": [
    {
     "data": {
      "image/png": "[encoded data removed]",
      "text/plain": [
       "<Figure size 432x288 with 1 Axes>"
      ]
     },
     "metadata": {
      "needs_background": "light"
     },
     "output_type": "display_data"
    }
   ],
   "source": [
    "plt.title(\"PC Explained Variance not normalized\")\n",
    "ratios = pca.explained_variance_ratio_\n",
    "plt.plot(list(range(1,len(ratios)+1)), ratios)\n",
    "plt.xlabel(\"PC\")\n",
    "plt.ylabel(\"% Explained Variance\")\n",
    "plt.show()"
   ]
  },
  {
   "cell_type": "code",
   "execution_count": 8,
   "id": "a9512366",
   "metadata": {},
   "outputs": [
    {
     "name": "stdout",
     "output_type": "stream",
     "text": [
      "[0.25888209 0.17681467 0.14612703 0.10066557 0.09902073 0.08802628\n",
      " 0.07512741 0.04396447 0.00623165 0.00514011]\n"
     ]
    }
   ],
   "source": [
    "from sklearn import preprocessing\n",
    "\n",
    "#PCA with normalization\n",
    "scaler = preprocessing.StandardScaler().fit(numeric)\n",
    "numeric_scaled = scaler.transform(numeric)\n",
    "\n",
    "pca_scaled = PCA(n_components=len(list(numeric.columns)))\n",
    "transformed = pca_scaled.fit_transform(numeric_scaled)\n",
    "print(pca_scaled.explained_variance_ratio_)"
   ]
  },
  {
   "cell_type": "code",
   "execution_count": 9,
   "id": "20305e15",
   "metadata": {},
   "outputs": [
    {
     "data": {
      "image/png": "[encoded data removed]",
      "text/plain": [
       "<Figure size 432x288 with 1 Axes>"
      ]
     },
     "metadata": {
      "needs_background": "light"
     },
     "output_type": "display_data"
    }
   ],
   "source": [
    "plt.title(\"PC Explained Variance normalized\")\n",
    "ratios_scaled = pca_scaled.explained_variance_ratio_\n",
    "plt.plot(list(range(1,len(ratios)+1)), ratios_scaled)\n",
    "plt.xlabel(\"PC\")\n",
    "plt.ylabel(\"% Explained Variance\")\n",
    "plt.show()"
   ]
  },
  {
   "cell_type": "code",
   "execution_count": 10,
   "id": "35af0738",
   "metadata": {},
   "outputs": [
    {
     "data": {
      "image/png": "[encoded data removed]",
      "text/plain": [
       "<Figure size 432x288 with 1 Axes>"
      ]
     },
     "metadata": {
      "needs_background": "light"
     },
     "output_type": "display_data"
    }
   ],
   "source": [
    "plt.title(\"PC Variance Cummulative Sum\")\n",
    "ratios_scaled = pca_scaled.explained_variance_ratio_\n",
    "plt.plot(list(range(1,len(ratios)+1)), np.cumsum(ratios_scaled))\n",
    "plt.xlabel(\"PC\")\n",
    "plt.ylabel(\"% Explained Variance\")\n",
    "plt.show()"
   ]
  },
  {
   "cell_type": "code",
   "execution_count": 11,
   "id": "60410cea",
   "metadata": {},
   "outputs": [
    {
     "data": {
      "text/plain": [
       "(34160, 62.96329842652637)"
      ]
     },
     "execution_count": 11,
     "metadata": {},
     "output_type": "execute_result"
    }
   ],
   "source": [
    "numeric_scaled.argmax(), numeric_scaled.max()"
   ]
  },
  {
   "cell_type": "code",
   "execution_count": 12,
   "id": "00d1a303",
   "metadata": {},
   "outputs": [
    {
     "data": {
      "text/plain": [
       "(8341, 10)"
      ]
     },
     "execution_count": 12,
     "metadata": {},
     "output_type": "execute_result"
    }
   ],
   "source": [
    "no_outlier_first = numeric_scaled[:34160//len(numeric_scaled),:]\n",
    "no_outlier_last = numeric_scaled[34160//len(numeric_scaled)+1:,:]\n",
    "no_outlier = np.concatenate((no_outlier_first, no_outlier_last))\n",
    "no_outlier.shape"
   ]
  },
  {
   "cell_type": "code",
   "execution_count": 13,
   "id": "5569d03f",
   "metadata": {},
   "outputs": [
    {
     "data": {
      "text/plain": [
       "<mpl_toolkits.mplot3d.art3d.Path3DCollection at 0x7fd639180160>"
      ]
     },
     "execution_count": 13,
     "metadata": {},
     "output_type": "execute_result"
    },
    {
     "data": {
      "image/png": "[encoded data removed]",
      "text/plain": [
       "<Figure size 432x288 with 1 Axes>"
      ]
     },
     "metadata": {
      "needs_background": "light"
     },
     "output_type": "display_data"
    }
   ],
   "source": [
    "import matplotlib.pyplot as plt\n",
    "from mpl_toolkits.mplot3d import Axes3D\n",
    "fig = plt.figure()\n",
    "ax = fig.add_subplot(111, projection='3d')\n",
    "\n",
    "ax.scatter(no_outlier[:,0], no_outlier[:,1], no_outlier[:,2])"
   ]
  },
  {
   "cell_type": "code",
   "execution_count": 17,
   "id": "7c36dd56",
   "metadata": {},
   "outputs": [],
   "source": [
    "index = len(numeric)*(2/3)\n",
    "X_train, X_test = numeric.loc[:index,:], numeric.loc[index:,:]"
   ]
  },
  {
   "cell_type": "code",
   "execution_count": 18,
   "id": "f83689c3",
   "metadata": {},
   "outputs": [
    {
     "data": {
      "text/plain": [
       "(      Price  Rating  NumRatings  Type  Year  Body  Acidity  Vintage  Nat  Size\n",
       " 0      5.02     3.5        1957     1  2011     4        3        0    0   500\n",
       " 1      5.49     3.2        3101     1  2016     4        3        0    0   750\n",
       " 2      5.49     3.2        1466     1  2016     3        3        0    0   750\n",
       " 3      5.25     3.8          50     4  2017     3        2        0    0   750\n",
       " 4      6.67     3.6        6112     4  2012    -1       -1        0    0   750\n",
       " ...     ...     ...         ...   ...   ...   ...      ...      ...  ...   ...\n",
       " 5557  11.99     3.3         559     2  2020     3        3        0    0   750\n",
       " 5558  11.99     3.6        4844     2  2019     3        3        0    0   750\n",
       " 5559  11.99     3.5        3160     2  2020     3        3        0    0   750\n",
       " 5560  11.99     3.5         717     2  2019     2        3        0    0   750\n",
       " 5561  11.99     3.4         143     2  2019     2        3        0    0   750\n",
       " \n",
       " [5562 rows x 10 columns],\n",
       "       Price  Rating  NumRatings  Type  Year  Body  Acidity  Vintage  Nat  Size\n",
       " 5562  11.99     3.7        2528     2  2020     3        3        0    0   750\n",
       " 5563  11.99     3.4        1094     2  2019     3        3        0    0   750\n",
       " 5564  11.99     3.8         302     2  2020     3        3        0    0   750\n",
       " 5565  11.99     3.7         794     2  2020     4        3        0    0   750\n",
       " 5566  11.99     3.5        3564     2  2018    -1       -1        0    0   750\n",
       " ...     ...     ...         ...   ...   ...   ...      ...      ...  ...   ...\n",
       " 8337  13.98     4.2        6210     3  2018     2        3        0    0   750\n",
       " 8338  41.99     4.0         543     3     0     3        3        1    0   750\n",
       " 8339  49.97     4.1         119     3     0     3        3        1    0   750\n",
       " 8340  12.99     3.5         121     3     0     1        3        1    0   750\n",
       " 8341  11.95     4.2        1086     3     0    -1       -1        1    0   750\n",
       " \n",
       " [2780 rows x 10 columns])"
      ]
     },
     "execution_count": 18,
     "metadata": {},
     "output_type": "execute_result"
    }
   ],
   "source": [
    "X_train, X_test"
   ]
  },
  {
   "cell_type": "code",
   "execution_count": 25,
   "id": "79a6bdfe",
   "metadata": {},
   "outputs": [],
   "source": [
    "#Kmeans\n",
    "kmeans = KMeans(n_clusters=10, random_state=0).fit(X_train)"
   ]
  },
  {
   "cell_type": "code",
   "execution_count": 34,
   "id": "68e73b7e",
   "metadata": {},
   "outputs": [
    {
     "data": {
      "text/plain": [
       "{0: array([   4,    6,    7,   15,   17,   34,   39,   48,   54,  110,  114,\n",
       "         119,  181,  182,  183,  195,  207,  214,  221,  230,  235,  238,\n",
       "         243,  244,  245,  252,  255,  276,  282,  290,  302,  309,  328,\n",
       "         333,  348,  361,  403,  497,  503,  541,  544,  550,  552,  560,\n",
       "         632,  654,  675,  678,  681,  749,  750,  804,  814,  821,  834,\n",
       "         840,  842,  850,  854,  866,  868,  869,  887,  888,  889,  896,\n",
       "         898,  903,  905,  907,  918,  935,  938,  944,  948,  994, 1004,\n",
       "        1007, 1016, 1022, 1030, 1060, 1067, 1111, 1118, 1123, 1129, 1143,\n",
       "        1146, 1147, 1153, 1155, 1166, 1178, 1195, 1200, 1205, 1211, 1215,\n",
       "        1221, 1223, 1230, 1278, 1280, 1286, 1287, 1289, 1293, 1297, 1309,\n",
       "        1312, 1314, 1326, 1342, 1356, 1360, 1361, 1363, 1366, 1375, 1383,\n",
       "        1386, 1401, 1404, 1423, 1424, 1433, 1436, 1437, 1440, 1451, 1461,\n",
       "        1462, 1467, 1470, 1474, 1479, 1485, 1488, 1492, 1497, 1535, 1551,\n",
       "        1595, 1601, 1608, 1618, 1626, 1638, 1649, 1651, 1655, 1686, 1692,\n",
       "        1694, 1697, 1707, 1724, 1743, 1745, 1758, 1759, 1765, 1766, 1771,\n",
       "        1776, 1780, 1781, 1784, 1797, 1802, 1807, 1823, 1824, 1841, 1846,\n",
       "        1867, 1871, 1877, 1879, 1882, 1892, 1894, 1904, 1928, 1934, 1939,\n",
       "        1957, 1958, 1961, 1977, 1985, 1986, 1995, 2000, 2006, 2007, 2011,\n",
       "        2014, 2015, 2021, 2032, 2038, 2047, 2049, 2052, 2053, 2060, 2067,\n",
       "        2068, 2078, 2079, 2084, 2112, 2117, 2130, 2137, 2141, 2144, 2149,\n",
       "        2169, 2203, 2214, 2220, 2221, 2246, 2247, 2262, 2266, 2284, 2315,\n",
       "        2316, 2317, 2319, 2348, 2367, 2372, 2373, 2384, 2387, 2391, 2392,\n",
       "        2428, 2439, 2450, 2473, 2479, 2485, 2490, 2495, 2498, 2500, 2504,\n",
       "        2508, 2509, 2514, 2515, 2517, 2521, 2522, 2532, 2533, 2534, 2563,\n",
       "        2583, 2585, 2590, 2595, 2601, 2604, 2607, 2657, 2674, 2720, 2733,\n",
       "        2738, 2742, 2751, 2755, 2765, 2771, 2773, 2780, 2783, 2794, 2795,\n",
       "        2816, 2822, 2838, 2845, 2854, 2856, 2858, 2859, 2864, 2878, 2908,\n",
       "        2913, 2918, 2922, 2940, 2948, 2949, 2956, 2958, 2961, 2969, 2977,\n",
       "        2978, 2985, 2991, 2995, 2996, 3000, 3022, 3028, 3046, 3050, 3054,\n",
       "        3056, 3073, 3085, 3096, 3109, 3111, 3167, 3197, 3230, 3236, 3237,\n",
       "        3245, 3255, 3269, 3301, 3318, 3324, 3330, 3335, 3357, 3359, 3377,\n",
       "        3379, 3387, 3394, 3395, 3400, 3401, 3403, 3406, 3411, 3413, 3416,\n",
       "        3438, 3444, 3454, 3458, 3464, 3486, 3499, 3503, 3514, 3521, 3534,\n",
       "        3536, 3543, 3548, 3555, 3586, 3607, 3609, 3663, 3690, 3697, 3700,\n",
       "        3711, 3739, 3750, 3761, 3762, 3853, 3916, 3932, 3946, 3959, 3970,\n",
       "        4028, 4030, 4045, 4054, 4063, 4065, 4100, 4152, 4167, 4189, 4223,\n",
       "        4239, 4275, 4283, 4284, 4348, 4362, 4370, 4379, 4385, 4392, 4423,\n",
       "        4470, 4479, 4482, 4493, 4508, 4517, 4518, 4519, 4527, 4583, 4596,\n",
       "        4607, 4613, 4640, 4648, 4661, 4674, 4676, 4692, 4703, 4708, 4709,\n",
       "        4717, 4718, 4728, 4729, 4733, 4753, 4772, 4780, 4782, 4786, 4789,\n",
       "        4791, 4796, 4798, 4803, 4809, 4812, 4819, 4827, 4835, 4845, 4849,\n",
       "        4855, 4856, 4858, 4859, 4861, 4866, 4871, 4872, 4873, 4877, 4900,\n",
       "        4921, 4929, 4933, 4934, 4937, 4938, 4941, 4950, 4954, 4955, 4964,\n",
       "        4965, 4988, 4995, 4996, 4998, 5003, 5004, 5005, 5009, 5010, 5013,\n",
       "        5014, 5015, 5021, 5032, 5033, 5044, 5051, 5061, 5066, 5070, 5072,\n",
       "        5075, 5081, 5094, 5096, 5098, 5100, 5101, 5128, 5135, 5138, 5140,\n",
       "        5142, 5143, 5145, 5147, 5148, 5151, 5158, 5168, 5170, 5178, 5179,\n",
       "        5180, 5182, 5210, 5211, 5230, 5233, 5247, 5254, 5259, 5261, 5276,\n",
       "        5294, 5296, 5301, 5312, 5319, 5324, 5337, 5349, 5361, 5364, 5368,\n",
       "        5382, 5386, 5387, 5391, 5392, 5394, 5397, 5400, 5411, 5414, 5423,\n",
       "        5426, 5447, 5450, 5453, 5485, 5488, 5493, 5529, 5538, 5543]),\n",
       " 1: array([ 459,  477,  901,  902,  964, 1002, 1008, 1077, 1078, 1163, 1478,\n",
       "        1525, 1555, 1622, 1646, 1808, 1923, 1953, 1959, 2043, 2056, 2069,\n",
       "        2198, 2493, 2635, 4618, 4627, 4629, 4635, 4643, 4644, 4652, 4656,\n",
       "        4681, 4710, 4726, 4771, 4824, 4826, 4833, 4870, 4876, 4912, 4949,\n",
       "        4977, 5279, 5470, 5536, 5541]),\n",
       " 2: array([1065, 1165, 1235, 1370, 1644, 1719, 1998, 2397, 3356, 3361, 3365,\n",
       "        3530, 3590, 3591, 3610, 4554, 4642, 4697, 4748, 4846]),\n",
       " 3: array([   8,   63,  385,  440,  819,  820,  832,  843,  855,  886,  937,\n",
       "        1006, 1012, 1013, 1017, 1036, 1039, 1044, 1048, 1059, 1062, 1073,\n",
       "        1089, 1110, 1115, 1145, 1151, 1164, 1189, 1193, 1196, 1214, 1219,\n",
       "        1222, 1236, 1268, 1291, 1300, 1303, 1306, 1308, 1315, 1338, 1371,\n",
       "        1384, 1385, 1399, 1402, 1421, 1430, 1434, 1442, 1444, 1477, 1493,\n",
       "        1501, 1517, 1523, 1524, 1528, 1565, 1568, 1584, 1588, 1603, 1604,\n",
       "        1607, 1630, 1633, 1634, 1663, 1664, 1706, 1714, 1716, 1718, 1728,\n",
       "        1768, 1863, 1883, 1916, 1942, 1945, 1954, 1984, 1992, 1993, 2001,\n",
       "        2022, 2025, 2033, 2080, 2091, 2094, 2108, 2111, 2201, 2205, 2210,\n",
       "        2212, 2222, 2259, 2275, 2276, 2288, 2303, 2339, 2398, 2411, 2419,\n",
       "        2434, 2435, 2470, 2481, 2491, 2518, 2542, 2621, 2622, 2631, 2694,\n",
       "        2703, 2705, 2930, 2954, 3270, 3302, 3329, 3332, 3346, 3352, 3405,\n",
       "        3522, 3561, 3597, 3598, 3606, 3626, 3642, 3701, 3763, 3811, 3860,\n",
       "        4003, 4194, 4360, 4361, 4429, 4454, 4466, 4595, 4597, 4615, 4632,\n",
       "        4650, 4654, 4675, 4677, 4682, 4685, 4696, 4699, 4702, 4712, 4722,\n",
       "        4723, 4741, 4744, 4745, 4757, 4760, 4808, 4822, 4828, 4830, 4850,\n",
       "        4869, 4916, 4940, 4946, 4948, 4953, 4960, 4969, 4973, 4974, 4979,\n",
       "        5023, 5063, 5116, 5141, 5286, 5322, 5356, 5383, 5401, 5419, 5492]),\n",
       " 4: array([3614, 3615, 3616, 3617, 3618, 3619, 3620, 3621, 3622, 3623, 3624,\n",
       "        3625, 3627, 3628, 3629, 3630, 3631, 3632, 3633, 3634, 3635, 3637,\n",
       "        3638, 3639, 3640, 3641, 3643, 3644, 3645, 3646, 3647, 3648, 3649,\n",
       "        3650, 3651, 3652, 3653, 3654, 3655, 3656, 3657, 3658, 3659, 3660,\n",
       "        3661, 3662, 3664, 3665, 3666, 3667, 3668, 3669, 3670, 3671, 3672,\n",
       "        3673, 3674, 3675, 3676, 3677, 3678, 3679, 3680, 3681, 3683, 3684,\n",
       "        3685, 3686, 3687, 3688, 3689, 3691, 3692, 3693, 3694, 3695, 3696,\n",
       "        3698, 3699, 3702, 3703, 3704, 3705, 3706, 3707, 3708, 3709, 3710,\n",
       "        3712, 3714, 3715, 3716, 3718, 3719, 3720, 3721, 3722, 3724, 3725,\n",
       "        3726, 3727, 3728, 3732, 3733, 3734, 3735, 3736, 3740, 3741, 3742,\n",
       "        3743, 3744, 3745, 3746, 3747, 3748, 3749, 3751, 3752, 3753, 3754,\n",
       "        3755, 3756, 3757, 3758, 3759, 3760, 3765, 3766, 3767, 3768, 3769,\n",
       "        3770, 3771, 3772, 3773, 3774, 3775, 3776, 3778, 3780, 3781, 3782,\n",
       "        3783, 3784, 3785, 3786, 3788, 3789, 3790, 3791, 3792, 3793, 3794,\n",
       "        3795, 3796, 3797, 3798, 3799, 3801, 3802, 3803, 3804, 3805, 3806,\n",
       "        3807, 3808, 3809, 3810, 3812, 3814, 3815, 3816, 3817, 3818, 3819,\n",
       "        3820, 3821, 3822, 3823, 3824, 3825, 3826, 3827, 3829, 3830, 3831,\n",
       "        3832, 3833, 3834, 3835, 3836, 3838, 3840, 3841, 3843, 3844, 3845,\n",
       "        3846, 3847, 3848, 3849, 3850, 3851, 3852, 3854, 3855, 3856, 3857,\n",
       "        3858, 3859, 3861, 3862, 3863, 3864, 3865, 3866, 3867, 3868, 3869,\n",
       "        3870, 3872, 3873, 3875, 3876, 3877, 3878, 3879, 3880, 3881, 3882,\n",
       "        3883, 3884, 3885, 3886, 3887, 3888, 3889, 3890, 3892, 3893, 3894,\n",
       "        3895, 3896, 3897, 3898, 3899, 3900, 3901, 3902, 3903, 3904, 3905,\n",
       "        3906, 3907, 3908, 3909, 3910, 3911, 3912, 3913, 3914, 3915, 3917,\n",
       "        3918, 3919, 3920, 3921, 3922, 3923, 3924, 3925, 3926, 3928, 3929,\n",
       "        3930, 3931, 3933, 3934, 3935, 3936, 3937, 3938, 3939, 3940, 3941,\n",
       "        3942, 3943, 3944, 3945, 3947, 3948, 3949, 3950, 3951, 3952, 3953,\n",
       "        3954, 3955, 3956, 3957, 3958, 3961, 3963, 3964, 3965, 3966, 3967,\n",
       "        3968, 3969, 3971, 3972, 3973, 3974, 3975, 3976, 3977, 3978, 3979,\n",
       "        3981, 3982, 3983, 3984, 3985, 3986, 3987, 3988, 3989, 3990, 3991,\n",
       "        3992, 3993, 3995, 3996, 3997, 3998, 3999, 4000, 4001, 4002, 4004,\n",
       "        4005, 4006, 4007, 4008, 4009, 4010, 4012, 4013, 4014, 4015, 4016,\n",
       "        4017, 4018, 4019, 4020, 4021, 4022, 4023, 4024, 4025, 4026, 4027,\n",
       "        4029, 4031, 4032, 4033, 4034, 4035, 4036, 4037, 4039, 4040, 4041,\n",
       "        4042, 4043, 4044, 4046, 4047, 4048, 4049, 4050, 4052, 4053, 4055,\n",
       "        4056, 4057, 4058, 4060, 4062, 4064, 4066, 4067, 4068, 4069, 4070,\n",
       "        4071, 4072, 4073, 4074, 4076, 4077, 4078, 4079, 4080, 4081, 4082,\n",
       "        4083, 4084, 4085, 4086, 4087, 4088, 4091, 4092, 4093, 4094, 4095,\n",
       "        4096, 4097, 4098, 4099, 4101, 4102, 4104, 4105, 4106, 4109, 4111,\n",
       "        4112, 4113, 4114, 4115, 4116, 4117, 4118, 4119, 4120, 4121, 4122,\n",
       "        4123, 4124, 4125, 4126, 4127, 4128, 4129, 4130, 4131, 4132, 4133,\n",
       "        4134, 4135, 4136, 4137, 4138, 4139, 4140, 4142, 4143, 4145, 4146,\n",
       "        4147, 4148, 4149, 4150, 4151, 4153, 4154, 4155, 4156, 4157, 4158,\n",
       "        4159, 4160, 4161, 4162, 4163, 4164, 4165, 4166, 4171, 4172, 4173,\n",
       "        4174, 4175, 4177, 4178, 4179, 4180, 4181, 4182, 4184, 4185, 4186,\n",
       "        4187, 4188, 4191, 4192, 4193, 4195, 4196, 4197, 4198, 4199, 4200,\n",
       "        4201, 4202, 4203, 4204, 4206, 4207, 4208, 4209, 4210, 4211, 4213,\n",
       "        4216, 4218, 4219, 4220, 4221, 4225, 4227, 4228, 4229, 4230, 4231,\n",
       "        4232, 4233, 4234, 4235, 4236, 4237, 4238, 4240, 4241, 4242, 4243,\n",
       "        4244, 4245, 4246, 4248, 4249, 4250, 4251, 4253, 4254, 4255, 4256,\n",
       "        4257, 4258, 4259, 4260, 4262, 4263, 4264, 4266, 4267, 4268, 4269,\n",
       "        4270, 4271, 4272, 4273, 4274, 4276, 4277, 4278, 4280, 4281, 4282,\n",
       "        4287, 4288, 4289, 4290, 4292, 4293, 4294, 4295, 4296, 4298, 4299,\n",
       "        4300, 4301, 4302, 4303, 4305, 4306, 4307, 4308, 4309, 4310, 4311,\n",
       "        4312, 4314, 4315, 4316, 4317, 4318, 4319, 4320, 4321, 4322, 4323,\n",
       "        4324, 4325, 4327, 4328, 4329, 4330, 4331, 4332, 4334, 4335, 4336,\n",
       "        4337, 4338, 4339, 4340, 4341, 4342, 4343, 4344, 4345, 4347, 4349,\n",
       "        4350, 4351, 4352, 4353, 4354, 4355, 4356, 4357, 4359, 4364, 4365,\n",
       "        4366, 4368, 4373, 4376, 4378, 4380, 4381, 4382, 4384, 4386, 4387,\n",
       "        4388, 4390, 4391, 4394, 4395, 4396, 4397, 4398, 4399, 4400, 4401,\n",
       "        4402, 4403, 4404, 4405, 4406, 4407, 4408, 4409, 4410, 4411, 4412,\n",
       "        4413, 4414, 4415, 4416, 4417, 4418, 4420, 4421, 4422, 4424, 4425,\n",
       "        4427, 4428, 4430, 4431, 4433, 4434, 4436, 4437, 4438, 4439, 4441,\n",
       "        4442, 4443, 4444, 4445, 4446, 4447, 4448, 4449, 4452, 4455, 4456,\n",
       "        4457, 4458, 4459, 4460, 4461, 4462, 4463, 4464, 4465, 4467, 4468,\n",
       "        4469, 4472, 4473, 4474, 4475, 4476, 4477, 4478, 4480, 4481, 4483,\n",
       "        4485, 4486, 4487, 4488, 4489, 4490, 4491, 4492, 4494, 4495, 4497,\n",
       "        4498, 4500, 4501, 4502, 4503, 4504, 4506, 4507, 4510, 4511, 4513,\n",
       "        4515, 4520, 4521, 4522, 4523, 4524, 4525, 4526, 4528, 4529, 4530,\n",
       "        4531, 4532, 4533, 4534, 4535, 4536, 4537, 4538, 4540, 4541, 4542,\n",
       "        4543, 4544, 4545, 4546, 4547, 4550, 4551, 4552, 4555, 4556, 4557,\n",
       "        4558, 4559, 4560, 4561, 4562, 4566, 4567, 4568, 4569, 4571, 4572,\n",
       "        4574, 4575, 4576, 4577, 4578, 4579, 4580, 4582, 4584, 4585, 4586,\n",
       "        4588, 4589, 4590, 4591, 4592, 4594, 4598, 4599, 4600, 4601, 4602,\n",
       "        4603, 4604, 4605, 4606, 4608, 4610, 4611, 4612, 4614, 4616, 4623,\n",
       "        4636, 4637, 4638, 4639, 4691, 4698, 4705, 4707, 4711, 4716, 4788,\n",
       "        4923, 4942, 4943, 4944, 4956, 4962, 5038, 5041, 5043, 5047, 5048,\n",
       "        5117, 5137, 5207, 5232, 5238, 5248, 5408]),\n",
       " 5: array([ 100,  203,  283,  299,  308,  393,  509,  636,  703,  769,  822,\n",
       "         836,  853,  914,  919,  923,  940,  941,  943,  967,  968,  973,\n",
       "         997, 1023, 1024, 1042, 1043, 1051, 1052, 1066, 1076, 1098, 1100,\n",
       "        1108, 1120, 1139, 1142, 1154, 1161, 1183, 1213, 1232, 1234, 1267,\n",
       "        1269, 1285, 1290, 1296, 1313, 1350, 1357, 1359, 1367, 1372, 1373,\n",
       "        1390, 1405, 1407, 1417, 1428, 1448, 1452, 1456, 1463, 1480, 1484,\n",
       "        1496, 1513, 1514, 1522, 1526, 1529, 1541, 1545, 1546, 1547, 1548,\n",
       "        1577, 1580, 1582, 1614, 1629, 1636, 1639, 1665, 1671, 1683, 1691,\n",
       "        1695, 1700, 1701, 1703, 1704, 1715, 1733, 1751, 1753, 1755, 1770,\n",
       "        1791, 1793, 1796, 1801, 1818, 1839, 1850, 1864, 1873, 1876, 1878,\n",
       "        1925, 1938, 1947, 1952, 1990, 1994, 2009, 2044, 2085, 2109, 2121,\n",
       "        2122, 2159, 2164, 2176, 2211, 2224, 2252, 2273, 2287, 2308, 2344,\n",
       "        2382, 2386, 2401, 2461, 2474, 2480, 2489, 2496, 2497, 2499, 2510,\n",
       "        2512, 2519, 2562, 2564, 2587, 2598, 2602, 2629, 2632, 2633, 2634,\n",
       "        2639, 2665, 2675, 2676, 2679, 2693, 2713, 2776, 2779, 2788, 2796,\n",
       "        2835, 2842, 2846, 2862, 2865, 2866, 2873, 2876, 2883, 2906, 2920,\n",
       "        3099, 3157, 3225, 3235, 3243, 3287, 3349, 3350, 3351, 3381, 3385,\n",
       "        3392, 3397, 3404, 3408, 3523, 3545, 3549, 3596, 3602, 3717, 3837,\n",
       "        3960, 4038, 4107, 4170, 4176, 4247, 4291, 4383, 4451, 4453, 4471,\n",
       "        4516, 4565, 4570, 4609, 4633, 4651, 4653, 4665, 4679, 4690, 4695,\n",
       "        4706, 4713, 4714, 4721, 4727, 4731, 4736, 4740, 4759, 4765, 4769,\n",
       "        4774, 4778, 4783, 4794, 4795, 4797, 4810, 4821, 4862, 4893, 4895,\n",
       "        4909, 4922, 4924, 4952, 4957, 4961, 5007, 5012, 5016, 5018, 5019,\n",
       "        5020, 5022, 5028, 5029, 5030, 5086, 5115, 5146, 5228, 5235, 5297,\n",
       "        5305, 5327, 5329, 5348, 5351, 5365, 5442, 5512, 5514, 5516, 5534,\n",
       "        5544]),\n",
       " 6: array([1055, 1087, 1156, 1305, 1554, 1624, 1643, 1794, 1849, 1881, 1917,\n",
       "        2432, 2511, 2638, 4499, 4641, 4645, 4655, 4793, 4799, 4936, 4951,\n",
       "        4959, 5026]),\n",
       " 7: array([ 264,  267,  451,  512,  530,  545,  800,  827,  899,  906,  916,\n",
       "         917,  950,  951,  952, 1003, 1005, 1018, 1025, 1033, 1101, 1126,\n",
       "        1160, 1162, 1192, 1226, 1307, 1316, 1355, 1362, 1364, 1374, 1388,\n",
       "        1464, 1500, 1552, 1642, 1674, 1698, 1717, 1729, 1795, 1798, 1872,\n",
       "        1915, 1948, 1955, 1997, 1999, 2004, 2024, 2065, 2087, 2116, 2133,\n",
       "        2213, 2286, 2291, 2301, 2431, 2451, 2460, 2494, 2584, 2588, 2612,\n",
       "        2680, 2879, 3370, 3380, 3382, 3384, 3389, 3393, 3506, 4371, 4496,\n",
       "        4587, 4619, 4620, 4628, 4630, 4631, 4647, 4680, 4693, 4725, 4732,\n",
       "        4746, 4755, 4761, 4773, 4776, 4817, 4818, 4832, 4847, 4848, 4853,\n",
       "        4931, 4945, 4963, 5034, 5273, 5306, 5418, 5475, 5535]),\n",
       " 8: array([   1,   12,   14, ..., 5555, 5558, 5559]),\n",
       " 9: array([   0,    2,    3, ..., 5557, 5560, 5561])}"
      ]
     },
     "execution_count": 34,
     "metadata": {},
     "output_type": "execute_result"
    }
   ],
   "source": [
    "cluster_map = pd.DataFrame()\n",
    "cluster_map['data_index'] = X_train.index.values\n",
    "cluster_map['cluster'] = kmeans.labels_\n",
    "\n",
    "cluster_indexs = {}\n",
    "for cluster in range(10):\n",
    "    cluster_indexs[cluster] = cluster_map[cluster_map.cluster == cluster].data_index.values\n",
    "cluster_indexs"
   ]
  },
  {
   "cell_type": "code",
   "execution_count": null,
   "id": "8eb349ea",
   "metadata": {},
   "outputs": [],
   "source": [
    "#Looking at the records values for each cluster\n"
   ]
  },
  {
   "cell_type": "markdown",
   "id": "050e2c9c",
   "metadata": {},
   "source": [
    "# Modeling Data "
   ]
  },
  {
   "cell_type": "code",
   "execution_count": null,
   "id": "7191b094",
   "metadata": {},
   "outputs": [],
   "source": [
    "from sklearn.ensemble import RandomForestClassifier\n",
    "from sklearn.ensemble import BaggingClassifier\n",
    "from sklearn.ensemble import GradientBoostingClassifier"
   ]
  },
  {
   "cell_type": "code",
   "execution_count": null,
   "id": "604d1c29",
   "metadata": {},
   "outputs": [],
   "source": []
  }
 ],
 "metadata": {
  "kernelspec": {
   "display_name": "Python 3 (ipykernel)",
   "language": "python",
   "name": "python3"
  },
  "language_info": {
   "codemirror_mode": {
    "name": "ipython",
    "version": 3
   },
   "file_extension": ".py",
   "mimetype": "text/x-python",
   "name": "python",
   "nbconvert_exporter": "python",
   "pygments_lexer": "ipython3",
   "version": "3.7.11"
  }
 },
 "nbformat": 4,
 "nbformat_minor": 5
}
