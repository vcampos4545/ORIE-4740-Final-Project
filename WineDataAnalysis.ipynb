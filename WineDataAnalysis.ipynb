{
 "cells": [
  {
   "cell_type": "code",
   "execution_count": 1,
   "id": "585a107b",
   "metadata": {},
   "outputs": [],
   "source": [
    "import pandas as pd\n",
    "import numpy as np\n",
    "import matplotlib.pyplot as plt"
   ]
  },
  {
   "cell_type": "markdown",
   "id": "08fac74d",
   "metadata": {},
   "source": [
    "# Getting data from scraped csv file"
   ]
  },
  {
   "cell_type": "code",
   "execution_count": 2,
   "id": "fc8b5ec9",
   "metadata": {},
   "outputs": [
    {
     "data": {
      "text/html": [
       "<div>\n",
       "<style scoped>\n",
       "    .dataframe tbody tr th:only-of-type {\n",
       "        vertical-align: middle;\n",
       "    }\n",
       "\n",
       "    .dataframe tbody tr th {\n",
       "        vertical-align: top;\n",
       "    }\n",
       "\n",
       "    .dataframe thead th {\n",
       "        text-align: right;\n",
       "    }\n",
       "</style>\n",
       "<table border=\"1\" class=\"dataframe\">\n",
       "  <thead>\n",
       "    <tr style=\"text-align: right;\">\n",
       "      <th></th>\n",
       "      <th>Unnamed: 0</th>\n",
       "      <th>Id</th>\n",
       "      <th>Name</th>\n",
       "      <th>Price</th>\n",
       "      <th>Rating</th>\n",
       "      <th>NumRatings</th>\n",
       "      <th>Type</th>\n",
       "      <th>StyleName</th>\n",
       "      <th>Year</th>\n",
       "      <th>Body</th>\n",
       "      <th>Acidity</th>\n",
       "      <th>Vintage</th>\n",
       "      <th>Nat</th>\n",
       "      <th>Region</th>\n",
       "      <th>Country</th>\n",
       "      <th>Size</th>\n",
       "      <th>Winery</th>\n",
       "    </tr>\n",
       "  </thead>\n",
       "  <tbody>\n",
       "    <tr>\n",
       "      <th>0</th>\n",
       "      <td>0</td>\n",
       "      <td>1416855</td>\n",
       "      <td>Bota Box Redvolution 2011</td>\n",
       "      <td>5.02</td>\n",
       "      <td>3.5</td>\n",
       "      <td>1957</td>\n",
       "      <td>1</td>\n",
       "      <td>Californian Red Blend</td>\n",
       "      <td>2011</td>\n",
       "      <td>4</td>\n",
       "      <td>3</td>\n",
       "      <td>0</td>\n",
       "      <td>0</td>\n",
       "      <td>California</td>\n",
       "      <td>United States</td>\n",
       "      <td>500</td>\n",
       "      <td>Bota Box</td>\n",
       "    </tr>\n",
       "    <tr>\n",
       "      <th>1</th>\n",
       "      <td>1</td>\n",
       "      <td>88766858</td>\n",
       "      <td>Crane Lake Cabernet Sauvignon 2016</td>\n",
       "      <td>5.49</td>\n",
       "      <td>3.2</td>\n",
       "      <td>3101</td>\n",
       "      <td>1</td>\n",
       "      <td>Californian Cabernet Sauvignon</td>\n",
       "      <td>2016</td>\n",
       "      <td>4</td>\n",
       "      <td>3</td>\n",
       "      <td>0</td>\n",
       "      <td>0</td>\n",
       "      <td>California</td>\n",
       "      <td>United States</td>\n",
       "      <td>750</td>\n",
       "      <td>Crane Lake</td>\n",
       "    </tr>\n",
       "    <tr>\n",
       "      <th>2</th>\n",
       "      <td>2</td>\n",
       "      <td>141258254</td>\n",
       "      <td>Crane Lake Pinot Noir 2016</td>\n",
       "      <td>5.49</td>\n",
       "      <td>3.2</td>\n",
       "      <td>1466</td>\n",
       "      <td>1</td>\n",
       "      <td>Californian Pinot Noir</td>\n",
       "      <td>2016</td>\n",
       "      <td>3</td>\n",
       "      <td>3</td>\n",
       "      <td>0</td>\n",
       "      <td>0</td>\n",
       "      <td>California</td>\n",
       "      <td>United States</td>\n",
       "      <td>750</td>\n",
       "      <td>Crane Lake</td>\n",
       "    </tr>\n",
       "    <tr>\n",
       "      <th>3</th>\n",
       "      <td>3</td>\n",
       "      <td>157294384</td>\n",
       "      <td>Oro Bello Rosé Gold 2017</td>\n",
       "      <td>5.25</td>\n",
       "      <td>3.8</td>\n",
       "      <td>50</td>\n",
       "      <td>4</td>\n",
       "      <td>Californian Rosé</td>\n",
       "      <td>2017</td>\n",
       "      <td>3</td>\n",
       "      <td>2</td>\n",
       "      <td>0</td>\n",
       "      <td>0</td>\n",
       "      <td>California</td>\n",
       "      <td>United States</td>\n",
       "      <td>750</td>\n",
       "      <td>Oro Bello</td>\n",
       "    </tr>\n",
       "    <tr>\n",
       "      <th>4</th>\n",
       "      <td>4</td>\n",
       "      <td>1395988</td>\n",
       "      <td>Sutter Home White Zinfandel 2012</td>\n",
       "      <td>6.67</td>\n",
       "      <td>3.6</td>\n",
       "      <td>6112</td>\n",
       "      <td>4</td>\n",
       "      <td>NONE</td>\n",
       "      <td>2012</td>\n",
       "      <td>-1</td>\n",
       "      <td>-1</td>\n",
       "      <td>0</td>\n",
       "      <td>0</td>\n",
       "      <td>St. Helena</td>\n",
       "      <td>United States</td>\n",
       "      <td>750</td>\n",
       "      <td>Sutter Home</td>\n",
       "    </tr>\n",
       "  </tbody>\n",
       "</table>\n",
       "</div>"
      ],
      "text/plain": [
       "   Unnamed: 0         Id                                Name  Price  Rating  \\\n",
       "0           0    1416855           Bota Box Redvolution 2011   5.02     3.5   \n",
       "1           1   88766858  Crane Lake Cabernet Sauvignon 2016   5.49     3.2   \n",
       "2           2  141258254          Crane Lake Pinot Noir 2016   5.49     3.2   \n",
       "3           3  157294384            Oro Bello Rosé Gold 2017   5.25     3.8   \n",
       "4           4    1395988    Sutter Home White Zinfandel 2012   6.67     3.6   \n",
       "\n",
       "   NumRatings  Type                       StyleName  Year  Body  Acidity  \\\n",
       "0        1957     1           Californian Red Blend  2011     4        3   \n",
       "1        3101     1  Californian Cabernet Sauvignon  2016     4        3   \n",
       "2        1466     1          Californian Pinot Noir  2016     3        3   \n",
       "3          50     4                Californian Rosé  2017     3        2   \n",
       "4        6112     4                            NONE  2012    -1       -1   \n",
       "\n",
       "   Vintage  Nat      Region        Country  Size       Winery  \n",
       "0        0    0  California  United States   500     Bota Box  \n",
       "1        0    0  California  United States   750   Crane Lake  \n",
       "2        0    0  California  United States   750   Crane Lake  \n",
       "3        0    0  California  United States   750    Oro Bello  \n",
       "4        0    0  St. Helena  United States   750  Sutter Home  "
      ]
     },
     "execution_count": 2,
     "metadata": {},
     "output_type": "execute_result"
    }
   ],
   "source": [
    "df = pd.read_csv(\"WineData.csv\")\n",
    "df.head()"
   ]
  },
  {
   "cell_type": "markdown",
   "id": "f45bd2fd",
   "metadata": {},
   "source": [
    "# Cleaning the data"
   ]
  },
  {
   "cell_type": "code",
   "execution_count": 3,
   "id": "f1803860",
   "metadata": {},
   "outputs": [
    {
     "data": {
      "text/plain": [
       "Index(['Unnamed: 0', 'Id', 'Name', 'Price', 'Rating', 'NumRatings', 'Type',\n",
       "       'StyleName', 'Year', 'Body', 'Acidity', 'Vintage', 'Nat', 'Region',\n",
       "       'Country', 'Size', 'Winery'],\n",
       "      dtype='object')"
      ]
     },
     "execution_count": 3,
     "metadata": {},
     "output_type": "execute_result"
    }
   ],
   "source": [
    "df.columns"
   ]
  },
  {
   "cell_type": "code",
   "execution_count": 4,
   "id": "69702c12",
   "metadata": {},
   "outputs": [
    {
     "data": {
      "text/html": [
       "<div>\n",
       "<style scoped>\n",
       "    .dataframe tbody tr th:only-of-type {\n",
       "        vertical-align: middle;\n",
       "    }\n",
       "\n",
       "    .dataframe tbody tr th {\n",
       "        vertical-align: top;\n",
       "    }\n",
       "\n",
       "    .dataframe thead th {\n",
       "        text-align: right;\n",
       "    }\n",
       "</style>\n",
       "<table border=\"1\" class=\"dataframe\">\n",
       "  <thead>\n",
       "    <tr style=\"text-align: right;\">\n",
       "      <th></th>\n",
       "      <th>Price</th>\n",
       "      <th>Rating</th>\n",
       "      <th>NumRatings</th>\n",
       "      <th>Type</th>\n",
       "      <th>Year</th>\n",
       "      <th>Body</th>\n",
       "      <th>Acidity</th>\n",
       "      <th>Vintage</th>\n",
       "      <th>Nat</th>\n",
       "      <th>Size</th>\n",
       "    </tr>\n",
       "  </thead>\n",
       "  <tbody>\n",
       "    <tr>\n",
       "      <th>0</th>\n",
       "      <td>5.02</td>\n",
       "      <td>3.5</td>\n",
       "      <td>1957</td>\n",
       "      <td>1</td>\n",
       "      <td>2011</td>\n",
       "      <td>4</td>\n",
       "      <td>3</td>\n",
       "      <td>0</td>\n",
       "      <td>0</td>\n",
       "      <td>500</td>\n",
       "    </tr>\n",
       "    <tr>\n",
       "      <th>1</th>\n",
       "      <td>5.49</td>\n",
       "      <td>3.2</td>\n",
       "      <td>3101</td>\n",
       "      <td>1</td>\n",
       "      <td>2016</td>\n",
       "      <td>4</td>\n",
       "      <td>3</td>\n",
       "      <td>0</td>\n",
       "      <td>0</td>\n",
       "      <td>750</td>\n",
       "    </tr>\n",
       "    <tr>\n",
       "      <th>2</th>\n",
       "      <td>5.49</td>\n",
       "      <td>3.2</td>\n",
       "      <td>1466</td>\n",
       "      <td>1</td>\n",
       "      <td>2016</td>\n",
       "      <td>3</td>\n",
       "      <td>3</td>\n",
       "      <td>0</td>\n",
       "      <td>0</td>\n",
       "      <td>750</td>\n",
       "    </tr>\n",
       "    <tr>\n",
       "      <th>3</th>\n",
       "      <td>5.25</td>\n",
       "      <td>3.8</td>\n",
       "      <td>50</td>\n",
       "      <td>4</td>\n",
       "      <td>2017</td>\n",
       "      <td>3</td>\n",
       "      <td>2</td>\n",
       "      <td>0</td>\n",
       "      <td>0</td>\n",
       "      <td>750</td>\n",
       "    </tr>\n",
       "    <tr>\n",
       "      <th>4</th>\n",
       "      <td>6.67</td>\n",
       "      <td>3.6</td>\n",
       "      <td>6112</td>\n",
       "      <td>4</td>\n",
       "      <td>2012</td>\n",
       "      <td>-1</td>\n",
       "      <td>-1</td>\n",
       "      <td>0</td>\n",
       "      <td>0</td>\n",
       "      <td>750</td>\n",
       "    </tr>\n",
       "  </tbody>\n",
       "</table>\n",
       "</div>"
      ],
      "text/plain": [
       "   Price  Rating  NumRatings  Type  Year  Body  Acidity  Vintage  Nat  Size\n",
       "0   5.02     3.5        1957     1  2011     4        3        0    0   500\n",
       "1   5.49     3.2        3101     1  2016     4        3        0    0   750\n",
       "2   5.49     3.2        1466     1  2016     3        3        0    0   750\n",
       "3   5.25     3.8          50     4  2017     3        2        0    0   750\n",
       "4   6.67     3.6        6112     4  2012    -1       -1        0    0   750"
      ]
     },
     "execution_count": 4,
     "metadata": {},
     "output_type": "execute_result"
    }
   ],
   "source": [
    "#Drop all categorical/useless columns\n",
    "numeric = df.drop(columns=['Unnamed: 0', 'Id', 'Name', 'StyleName', 'Region', 'Country', 'Winery'])\n",
    "numeric.head()"
   ]
  },
  {
   "cell_type": "markdown",
   "id": "e622eb76",
   "metadata": {},
   "source": [
    "# Exploratory Data Analysis"
   ]
  },
  {
   "cell_type": "code",
   "execution_count": 5,
   "id": "91f5f099",
   "metadata": {},
   "outputs": [],
   "source": [
    "from sklearn.cluster import KMeans\n",
    "from sklearn.decomposition import PCA"
   ]
  },
  {
   "cell_type": "code",
   "execution_count": 6,
   "id": "c7f5337c",
   "metadata": {},
   "outputs": [
    {
     "name": "stdout",
     "output_type": "stream",
     "text": [
      "[9.94728905e-01 4.97831598e-03 2.32836076e-04 5.98708342e-05\n",
      " 6.13397632e-08 7.91656777e-09 1.99594930e-09 4.57872707e-10\n",
      " 2.13305326e-10 1.41388267e-10]\n"
     ]
    }
   ],
   "source": [
    "#PCA without normalization\n",
    "pca = PCA(n_components=len(list(numeric.columns)))\n",
    "pca.fit(numeric)\n",
    "print(pca.explained_variance_ratio_)"
   ]
  },
  {
   "cell_type": "code",
   "execution_count": 7,
   "id": "970e7f99",
   "metadata": {},
   "outputs": [
    {
     "data": {
      "image/png": "[encoded data removed]",
      "text/plain": [
       "<Figure size 432x288 with 1 Axes>"
      ]
     },
     "metadata": {
      "needs_background": "light"
     },
     "output_type": "display_data"
    }
   ],
   "source": [
    "plt.title(\"PC Explained Variance not normalized\")\n",
    "ratios = pca.explained_variance_ratio_\n",
    "plt.plot(list(range(1,len(ratios)+1)), ratios)\n",
    "plt.xlabel(\"PC\")\n",
    "plt.ylabel(\"% Explained Variance\")\n",
    "plt.show()"
   ]
  },
  {
   "cell_type": "code",
   "execution_count": 8,
   "id": "24c1116f",
   "metadata": {},
   "outputs": [
    {
     "name": "stdout",
     "output_type": "stream",
     "text": [
      "[0.25888209 0.17681467 0.14612703 0.10066557 0.09902073 0.08802628\n",
      " 0.07512741 0.04396447 0.00623165 0.00514011]\n"
     ]
    }
   ],
   "source": [
    "from sklearn import preprocessing\n",
    "\n",
    "#PCA with normalization\n",
    "scaler = preprocessing.StandardScaler().fit(numeric)\n",
    "numeric_scaled = scaler.transform(numeric)\n",
    "\n",
    "pca_scaled = PCA(n_components=len(list(numeric.columns)))\n",
    "transformed = pca_scaled.fit_transform(numeric_scaled)\n",
    "print(pca_scaled.explained_variance_ratio_)"
   ]
  },
  {
   "cell_type": "code",
   "execution_count": 9,
   "id": "c97fc648",
   "metadata": {},
   "outputs": [
    {
     "data": {
      "image/png": "[encoded data removed]",
      "text/plain": [
       "<Figure size 432x288 with 1 Axes>"
      ]
     },
     "metadata": {
      "needs_background": "light"
     },
     "output_type": "display_data"
    }
   ],
   "source": [
    "plt.title(\"PC Explained Variance normalized\")\n",
    "ratios_scaled = pca_scaled.explained_variance_ratio_\n",
    "plt.plot(list(range(1,len(ratios)+1)), ratios_scaled)\n",
    "plt.xlabel(\"PC\")\n",
    "plt.ylabel(\"% Explained Variance\")\n",
    "plt.show()"
   ]
  },
  {
   "cell_type": "code",
   "execution_count": 10,
   "id": "c69bf442",
   "metadata": {},
   "outputs": [
    {
     "data": {
      "text/plain": [
       "(34160, 62.96329842652637)"
      ]
     },
     "execution_count": 10,
     "metadata": {},
     "output_type": "execute_result"
    }
   ],
   "source": [
    "numeric_scaled.argmax(), numeric_scaled.max()"
   ]
  },
  {
   "cell_type": "code",
   "execution_count": 39,
   "id": "e97c2ddd",
   "metadata": {},
   "outputs": [
    {
     "data": {
      "text/plain": [
       "(8341, 10)"
      ]
     },
     "execution_count": 39,
     "metadata": {},
     "output_type": "execute_result"
    }
   ],
   "source": [
    "no_outlier_first = numeric_scaled[:34160//len(numeric_scaled),:]\n",
    "no_outlier_last = numeric_scaled[34160//len(numeric_scaled)+1:,:]\n",
    "no_outlier = np.concatenate((no_outlier_first, no_outlier_last))\n",
    "no_outlier.shape"
   ]
  },
  {
   "cell_type": "code",
   "execution_count": 40,
   "id": "3692b175",
   "metadata": {},
   "outputs": [
    {
     "data": {
      "text/plain": [
       "<mpl_toolkits.mplot3d.art3d.Path3DCollection at 0x7fb448e54310>"
      ]
     },
     "execution_count": 40,
     "metadata": {},
     "output_type": "execute_result"
    },
    {
     "data": {
      "image/png": "[encoded data removed]",
      "text/plain": [
       "<Figure size 432x288 with 1 Axes>"
      ]
     },
     "metadata": {
      "needs_background": "light"
     },
     "output_type": "display_data"
    }
   ],
   "source": [
    "import matplotlib.pyplot as plt\n",
    "from mpl_toolkits.mplot3d import Axes3D\n",
    "fig = plt.figure()\n",
    "ax = fig.add_subplot(111, projection='3d')\n",
    "\n",
    "ax.scatter(no_outlier[:,0], no_outlier[:,1], no_outlier[:,2])"
   ]
  },
  {
   "cell_type": "markdown",
   "id": "7e511e1c",
   "metadata": {},
   "source": [
    "# Modeling Data "
   ]
  },
  {
   "cell_type": "code",
   "execution_count": 14,
   "id": "22f3a32c",
   "metadata": {},
   "outputs": [],
   "source": [
    "from sklearn.ensemble import RandomForestClassifier\n",
    "from sklearn.ensemble import BaggingClassifier\n",
    "from sklearn.ensemble import GradientBoostingClassifier"
   ]
  },
  {
   "cell_type": "code",
   "execution_count": null,
   "id": "a5177727",
   "metadata": {},
   "outputs": [],
   "source": []
  }
 ],
 "metadata": {
  "kernelspec": {
   "display_name": "Python 3",
   "language": "python",
   "name": "python3"
  },
  "language_info": {
   "codemirror_mode": {
    "name": "ipython",
    "version": 3
   },
   "file_extension": ".py",
   "mimetype": "text/x-python",
   "name": "python",
   "nbconvert_exporter": "python",
   "pygments_lexer": "ipython3",
   "version": "3.8.8"
  }
 },
 "nbformat": 4,
 "nbformat_minor": 5
}
