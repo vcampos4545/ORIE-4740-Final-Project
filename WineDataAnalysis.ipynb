{
 "cells": [
  {
   "cell_type": "code",
   "execution_count": 1,
   "id": "7bf1270f",
   "metadata": {},
   "outputs": [],
   "source": [
    "import pandas as pd\n",
    "import numpy as np\n",
    "import matplotlib.pyplot as plt\n",
    "\n",
    "from sklearn.preprocessing import StandardScaler\n",
    "from sklearn.model_selection import KFold, RepeatedKFold\n",
    "\n",
    "from sklearn.linear_model import LinearRegression, Lasso, Ridge, LassoCV, RidgeCV\n",
    "\n",
    "from sklearn.cluster import KMeans\n",
    "from sklearn.decomposition import PCA\n",
    "\n",
    "from sklearn.ensemble import RandomForestRegressor\n",
    "from sklearn.ensemble import BaggingRegressor\n",
    "from sklearn.ensemble import GradientBoostingRegressor"
   ]
  },
  {
   "cell_type": "markdown",
   "id": "75e759bc",
   "metadata": {},
   "source": [
    "# Getting data from scraped csv file"
   ]
  },
  {
   "cell_type": "code",
   "execution_count": 2,
   "id": "da989113",
   "metadata": {},
   "outputs": [
    {
     "data": {
      "text/html": [
       "<div>\n",
       "<style scoped>\n",
       "    .dataframe tbody tr th:only-of-type {\n",
       "        vertical-align: middle;\n",
       "    }\n",
       "\n",
       "    .dataframe tbody tr th {\n",
       "        vertical-align: top;\n",
       "    }\n",
       "\n",
       "    .dataframe thead th {\n",
       "        text-align: right;\n",
       "    }\n",
       "</style>\n",
       "<table border=\"1\" class=\"dataframe\">\n",
       "  <thead>\n",
       "    <tr style=\"text-align: right;\">\n",
       "      <th></th>\n",
       "      <th>Unnamed: 0</th>\n",
       "      <th>Id</th>\n",
       "      <th>Name</th>\n",
       "      <th>Price</th>\n",
       "      <th>Rating</th>\n",
       "      <th>NumRatings</th>\n",
       "      <th>Type</th>\n",
       "      <th>StyleName</th>\n",
       "      <th>Year</th>\n",
       "      <th>Body</th>\n",
       "      <th>Acidity</th>\n",
       "      <th>Vintage</th>\n",
       "      <th>Nat</th>\n",
       "      <th>Region</th>\n",
       "      <th>Country</th>\n",
       "      <th>Size</th>\n",
       "      <th>Winery</th>\n",
       "    </tr>\n",
       "  </thead>\n",
       "  <tbody>\n",
       "    <tr>\n",
       "      <th>0</th>\n",
       "      <td>0</td>\n",
       "      <td>1416855</td>\n",
       "      <td>Bota Box Redvolution 2011</td>\n",
       "      <td>5.02</td>\n",
       "      <td>3.5</td>\n",
       "      <td>1957</td>\n",
       "      <td>1</td>\n",
       "      <td>Californian Red Blend</td>\n",
       "      <td>2011</td>\n",
       "      <td>4</td>\n",
       "      <td>3</td>\n",
       "      <td>0</td>\n",
       "      <td>0</td>\n",
       "      <td>California</td>\n",
       "      <td>United States</td>\n",
       "      <td>500</td>\n",
       "      <td>Bota Box</td>\n",
       "    </tr>\n",
       "    <tr>\n",
       "      <th>1</th>\n",
       "      <td>1</td>\n",
       "      <td>88766858</td>\n",
       "      <td>Crane Lake Cabernet Sauvignon 2016</td>\n",
       "      <td>5.49</td>\n",
       "      <td>3.2</td>\n",
       "      <td>3101</td>\n",
       "      <td>1</td>\n",
       "      <td>Californian Cabernet Sauvignon</td>\n",
       "      <td>2016</td>\n",
       "      <td>4</td>\n",
       "      <td>3</td>\n",
       "      <td>0</td>\n",
       "      <td>0</td>\n",
       "      <td>California</td>\n",
       "      <td>United States</td>\n",
       "      <td>750</td>\n",
       "      <td>Crane Lake</td>\n",
       "    </tr>\n",
       "    <tr>\n",
       "      <th>2</th>\n",
       "      <td>2</td>\n",
       "      <td>141258254</td>\n",
       "      <td>Crane Lake Pinot Noir 2016</td>\n",
       "      <td>5.49</td>\n",
       "      <td>3.2</td>\n",
       "      <td>1466</td>\n",
       "      <td>1</td>\n",
       "      <td>Californian Pinot Noir</td>\n",
       "      <td>2016</td>\n",
       "      <td>3</td>\n",
       "      <td>3</td>\n",
       "      <td>0</td>\n",
       "      <td>0</td>\n",
       "      <td>California</td>\n",
       "      <td>United States</td>\n",
       "      <td>750</td>\n",
       "      <td>Crane Lake</td>\n",
       "    </tr>\n",
       "    <tr>\n",
       "      <th>3</th>\n",
       "      <td>3</td>\n",
       "      <td>157294384</td>\n",
       "      <td>Oro Bello Rosé Gold 2017</td>\n",
       "      <td>5.25</td>\n",
       "      <td>3.8</td>\n",
       "      <td>50</td>\n",
       "      <td>4</td>\n",
       "      <td>Californian Rosé</td>\n",
       "      <td>2017</td>\n",
       "      <td>3</td>\n",
       "      <td>2</td>\n",
       "      <td>0</td>\n",
       "      <td>0</td>\n",
       "      <td>California</td>\n",
       "      <td>United States</td>\n",
       "      <td>750</td>\n",
       "      <td>Oro Bello</td>\n",
       "    </tr>\n",
       "    <tr>\n",
       "      <th>4</th>\n",
       "      <td>4</td>\n",
       "      <td>1395988</td>\n",
       "      <td>Sutter Home White Zinfandel 2012</td>\n",
       "      <td>6.67</td>\n",
       "      <td>3.6</td>\n",
       "      <td>6112</td>\n",
       "      <td>4</td>\n",
       "      <td>NONE</td>\n",
       "      <td>2012</td>\n",
       "      <td>-1</td>\n",
       "      <td>-1</td>\n",
       "      <td>0</td>\n",
       "      <td>0</td>\n",
       "      <td>St. Helena</td>\n",
       "      <td>United States</td>\n",
       "      <td>750</td>\n",
       "      <td>Sutter Home</td>\n",
       "    </tr>\n",
       "  </tbody>\n",
       "</table>\n",
       "</div>"
      ],
      "text/plain": [
       "   Unnamed: 0         Id                                Name  Price  Rating  \\\n",
       "0           0    1416855           Bota Box Redvolution 2011   5.02     3.5   \n",
       "1           1   88766858  Crane Lake Cabernet Sauvignon 2016   5.49     3.2   \n",
       "2           2  141258254          Crane Lake Pinot Noir 2016   5.49     3.2   \n",
       "3           3  157294384            Oro Bello Rosé Gold 2017   5.25     3.8   \n",
       "4           4    1395988    Sutter Home White Zinfandel 2012   6.67     3.6   \n",
       "\n",
       "   NumRatings  Type                       StyleName  Year  Body  Acidity  \\\n",
       "0        1957     1           Californian Red Blend  2011     4        3   \n",
       "1        3101     1  Californian Cabernet Sauvignon  2016     4        3   \n",
       "2        1466     1          Californian Pinot Noir  2016     3        3   \n",
       "3          50     4                Californian Rosé  2017     3        2   \n",
       "4        6112     4                            NONE  2012    -1       -1   \n",
       "\n",
       "   Vintage  Nat      Region        Country  Size       Winery  \n",
       "0        0    0  California  United States   500     Bota Box  \n",
       "1        0    0  California  United States   750   Crane Lake  \n",
       "2        0    0  California  United States   750   Crane Lake  \n",
       "3        0    0  California  United States   750    Oro Bello  \n",
       "4        0    0  St. Helena  United States   750  Sutter Home  "
      ]
     },
     "execution_count": 2,
     "metadata": {},
     "output_type": "execute_result"
    }
   ],
   "source": [
    "df = pd.read_csv(\"WineData.csv\")\n",
    "df.head()"
   ]
  },
  {
   "cell_type": "markdown",
   "id": "2e5c41cd",
   "metadata": {},
   "source": [
    "# Cleaning the data"
   ]
  },
  {
   "cell_type": "code",
   "execution_count": 3,
   "id": "5e0e2d03",
   "metadata": {},
   "outputs": [
    {
     "data": {
      "text/plain": [
       "Index(['Unnamed: 0', 'Id', 'Name', 'Price', 'Rating', 'NumRatings', 'Type',\n",
       "       'StyleName', 'Year', 'Body', 'Acidity', 'Vintage', 'Nat', 'Region',\n",
       "       'Country', 'Size', 'Winery'],\n",
       "      dtype='object')"
      ]
     },
     "execution_count": 3,
     "metadata": {},
     "output_type": "execute_result"
    }
   ],
   "source": [
    "df.columns"
   ]
  },
  {
   "cell_type": "code",
   "execution_count": 4,
   "id": "08b01845",
   "metadata": {},
   "outputs": [
    {
     "data": {
      "text/html": [
       "<div>\n",
       "<style scoped>\n",
       "    .dataframe tbody tr th:only-of-type {\n",
       "        vertical-align: middle;\n",
       "    }\n",
       "\n",
       "    .dataframe tbody tr th {\n",
       "        vertical-align: top;\n",
       "    }\n",
       "\n",
       "    .dataframe thead th {\n",
       "        text-align: right;\n",
       "    }\n",
       "</style>\n",
       "<table border=\"1\" class=\"dataframe\">\n",
       "  <thead>\n",
       "    <tr style=\"text-align: right;\">\n",
       "      <th></th>\n",
       "      <th>Price</th>\n",
       "      <th>Rating</th>\n",
       "      <th>NumRatings</th>\n",
       "      <th>Type</th>\n",
       "      <th>Year</th>\n",
       "      <th>Body</th>\n",
       "      <th>Acidity</th>\n",
       "      <th>Vintage</th>\n",
       "      <th>Nat</th>\n",
       "      <th>Country</th>\n",
       "      <th>Size</th>\n",
       "    </tr>\n",
       "  </thead>\n",
       "  <tbody>\n",
       "    <tr>\n",
       "      <th>0</th>\n",
       "      <td>5.02</td>\n",
       "      <td>3.5</td>\n",
       "      <td>1957</td>\n",
       "      <td>1</td>\n",
       "      <td>2011</td>\n",
       "      <td>4</td>\n",
       "      <td>3</td>\n",
       "      <td>0</td>\n",
       "      <td>0</td>\n",
       "      <td>United States</td>\n",
       "      <td>500</td>\n",
       "    </tr>\n",
       "    <tr>\n",
       "      <th>1</th>\n",
       "      <td>5.49</td>\n",
       "      <td>3.2</td>\n",
       "      <td>3101</td>\n",
       "      <td>1</td>\n",
       "      <td>2016</td>\n",
       "      <td>4</td>\n",
       "      <td>3</td>\n",
       "      <td>0</td>\n",
       "      <td>0</td>\n",
       "      <td>United States</td>\n",
       "      <td>750</td>\n",
       "    </tr>\n",
       "    <tr>\n",
       "      <th>2</th>\n",
       "      <td>5.49</td>\n",
       "      <td>3.2</td>\n",
       "      <td>1466</td>\n",
       "      <td>1</td>\n",
       "      <td>2016</td>\n",
       "      <td>3</td>\n",
       "      <td>3</td>\n",
       "      <td>0</td>\n",
       "      <td>0</td>\n",
       "      <td>United States</td>\n",
       "      <td>750</td>\n",
       "    </tr>\n",
       "    <tr>\n",
       "      <th>3</th>\n",
       "      <td>5.25</td>\n",
       "      <td>3.8</td>\n",
       "      <td>50</td>\n",
       "      <td>4</td>\n",
       "      <td>2017</td>\n",
       "      <td>3</td>\n",
       "      <td>2</td>\n",
       "      <td>0</td>\n",
       "      <td>0</td>\n",
       "      <td>United States</td>\n",
       "      <td>750</td>\n",
       "    </tr>\n",
       "    <tr>\n",
       "      <th>6</th>\n",
       "      <td>7.08</td>\n",
       "      <td>3.7</td>\n",
       "      <td>7880</td>\n",
       "      <td>4</td>\n",
       "      <td>2018</td>\n",
       "      <td>3</td>\n",
       "      <td>2</td>\n",
       "      <td>0</td>\n",
       "      <td>0</td>\n",
       "      <td>United States</td>\n",
       "      <td>750</td>\n",
       "    </tr>\n",
       "  </tbody>\n",
       "</table>\n",
       "</div>"
      ],
      "text/plain": [
       "   Price  Rating  NumRatings  Type  Year  Body  Acidity  Vintage  Nat  \\\n",
       "0   5.02     3.5        1957     1  2011     4        3        0    0   \n",
       "1   5.49     3.2        3101     1  2016     4        3        0    0   \n",
       "2   5.49     3.2        1466     1  2016     3        3        0    0   \n",
       "3   5.25     3.8          50     4  2017     3        2        0    0   \n",
       "6   7.08     3.7        7880     4  2018     3        2        0    0   \n",
       "\n",
       "         Country  Size  \n",
       "0  United States   500  \n",
       "1  United States   750  \n",
       "2  United States   750  \n",
       "3  United States   750  \n",
       "6  United States   750  "
      ]
     },
     "execution_count": 4,
     "metadata": {},
     "output_type": "execute_result"
    }
   ],
   "source": [
    "#Drop all categorical/useless columns\n",
    "numeric = df.drop(columns=['Unnamed: 0', 'Id', 'Name', 'StyleName', 'Region', 'Winery'])\n",
    "#Drop all records with body or acidity = -1\n",
    "numeric = numeric.loc[~((numeric[\"Body\"] == -1) | (numeric[\"Acidity\"] == -1) | (numeric[\"Year\"] == 0))]\n",
    "numeric.head()"
   ]
  },
  {
   "cell_type": "code",
   "execution_count": 5,
   "id": "2e224e9d",
   "metadata": {},
   "outputs": [],
   "source": [
    "#Making dummy columns for each country\n",
    "countries = numeric.Country.unique()\n",
    "\n",
    "for country in countries:\n",
    "    numeric[country] = np.where(numeric[\"Country\"] == country, 1, 0)"
   ]
  },
  {
   "cell_type": "code",
   "execution_count": 6,
   "id": "7f3a04e1",
   "metadata": {},
   "outputs": [
    {
     "data": {
      "text/html": [
       "<div>\n",
       "<style scoped>\n",
       "    .dataframe tbody tr th:only-of-type {\n",
       "        vertical-align: middle;\n",
       "    }\n",
       "\n",
       "    .dataframe tbody tr th {\n",
       "        vertical-align: top;\n",
       "    }\n",
       "\n",
       "    .dataframe thead th {\n",
       "        text-align: right;\n",
       "    }\n",
       "</style>\n",
       "<table border=\"1\" class=\"dataframe\">\n",
       "  <thead>\n",
       "    <tr style=\"text-align: right;\">\n",
       "      <th></th>\n",
       "      <th>Price</th>\n",
       "      <th>Rating</th>\n",
       "      <th>NumRatings</th>\n",
       "      <th>Type</th>\n",
       "      <th>Year</th>\n",
       "      <th>Body</th>\n",
       "      <th>Acidity</th>\n",
       "      <th>Vintage</th>\n",
       "      <th>Nat</th>\n",
       "      <th>Size</th>\n",
       "      <th>...</th>\n",
       "      <th>NONE</th>\n",
       "      <th>Greece</th>\n",
       "      <th>Uruguay</th>\n",
       "      <th>Mexico</th>\n",
       "      <th>New Zealand</th>\n",
       "      <th>Germany</th>\n",
       "      <th>Hungary</th>\n",
       "      <th>Austria</th>\n",
       "      <th>Brazil</th>\n",
       "      <th>United Kingdom</th>\n",
       "    </tr>\n",
       "  </thead>\n",
       "  <tbody>\n",
       "    <tr>\n",
       "      <th>0</th>\n",
       "      <td>5.02</td>\n",
       "      <td>3.5</td>\n",
       "      <td>1957</td>\n",
       "      <td>1</td>\n",
       "      <td>2011</td>\n",
       "      <td>4</td>\n",
       "      <td>3</td>\n",
       "      <td>0</td>\n",
       "      <td>0</td>\n",
       "      <td>500</td>\n",
       "      <td>...</td>\n",
       "      <td>0</td>\n",
       "      <td>0</td>\n",
       "      <td>0</td>\n",
       "      <td>0</td>\n",
       "      <td>0</td>\n",
       "      <td>0</td>\n",
       "      <td>0</td>\n",
       "      <td>0</td>\n",
       "      <td>0</td>\n",
       "      <td>0</td>\n",
       "    </tr>\n",
       "    <tr>\n",
       "      <th>1</th>\n",
       "      <td>5.49</td>\n",
       "      <td>3.2</td>\n",
       "      <td>3101</td>\n",
       "      <td>1</td>\n",
       "      <td>2016</td>\n",
       "      <td>4</td>\n",
       "      <td>3</td>\n",
       "      <td>0</td>\n",
       "      <td>0</td>\n",
       "      <td>750</td>\n",
       "      <td>...</td>\n",
       "      <td>0</td>\n",
       "      <td>0</td>\n",
       "      <td>0</td>\n",
       "      <td>0</td>\n",
       "      <td>0</td>\n",
       "      <td>0</td>\n",
       "      <td>0</td>\n",
       "      <td>0</td>\n",
       "      <td>0</td>\n",
       "      <td>0</td>\n",
       "    </tr>\n",
       "    <tr>\n",
       "      <th>2</th>\n",
       "      <td>5.49</td>\n",
       "      <td>3.2</td>\n",
       "      <td>1466</td>\n",
       "      <td>1</td>\n",
       "      <td>2016</td>\n",
       "      <td>3</td>\n",
       "      <td>3</td>\n",
       "      <td>0</td>\n",
       "      <td>0</td>\n",
       "      <td>750</td>\n",
       "      <td>...</td>\n",
       "      <td>0</td>\n",
       "      <td>0</td>\n",
       "      <td>0</td>\n",
       "      <td>0</td>\n",
       "      <td>0</td>\n",
       "      <td>0</td>\n",
       "      <td>0</td>\n",
       "      <td>0</td>\n",
       "      <td>0</td>\n",
       "      <td>0</td>\n",
       "    </tr>\n",
       "    <tr>\n",
       "      <th>3</th>\n",
       "      <td>5.25</td>\n",
       "      <td>3.8</td>\n",
       "      <td>50</td>\n",
       "      <td>4</td>\n",
       "      <td>2017</td>\n",
       "      <td>3</td>\n",
       "      <td>2</td>\n",
       "      <td>0</td>\n",
       "      <td>0</td>\n",
       "      <td>750</td>\n",
       "      <td>...</td>\n",
       "      <td>0</td>\n",
       "      <td>0</td>\n",
       "      <td>0</td>\n",
       "      <td>0</td>\n",
       "      <td>0</td>\n",
       "      <td>0</td>\n",
       "      <td>0</td>\n",
       "      <td>0</td>\n",
       "      <td>0</td>\n",
       "      <td>0</td>\n",
       "    </tr>\n",
       "    <tr>\n",
       "      <th>4</th>\n",
       "      <td>7.08</td>\n",
       "      <td>3.7</td>\n",
       "      <td>7880</td>\n",
       "      <td>4</td>\n",
       "      <td>2018</td>\n",
       "      <td>3</td>\n",
       "      <td>2</td>\n",
       "      <td>0</td>\n",
       "      <td>0</td>\n",
       "      <td>750</td>\n",
       "      <td>...</td>\n",
       "      <td>0</td>\n",
       "      <td>0</td>\n",
       "      <td>0</td>\n",
       "      <td>0</td>\n",
       "      <td>0</td>\n",
       "      <td>0</td>\n",
       "      <td>0</td>\n",
       "      <td>0</td>\n",
       "      <td>0</td>\n",
       "      <td>0</td>\n",
       "    </tr>\n",
       "  </tbody>\n",
       "</table>\n",
       "<p>5 rows × 31 columns</p>\n",
       "</div>"
      ],
      "text/plain": [
       "   Price  Rating  NumRatings  Type  Year  Body  Acidity  Vintage  Nat  Size  \\\n",
       "0   5.02     3.5        1957     1  2011     4        3        0    0   500   \n",
       "1   5.49     3.2        3101     1  2016     4        3        0    0   750   \n",
       "2   5.49     3.2        1466     1  2016     3        3        0    0   750   \n",
       "3   5.25     3.8          50     4  2017     3        2        0    0   750   \n",
       "4   7.08     3.7        7880     4  2018     3        2        0    0   750   \n",
       "\n",
       "   ...  NONE  Greece  Uruguay  Mexico  New Zealand  Germany  Hungary  Austria  \\\n",
       "0  ...     0       0        0       0            0        0        0        0   \n",
       "1  ...     0       0        0       0            0        0        0        0   \n",
       "2  ...     0       0        0       0            0        0        0        0   \n",
       "3  ...     0       0        0       0            0        0        0        0   \n",
       "4  ...     0       0        0       0            0        0        0        0   \n",
       "\n",
       "   Brazil  United Kingdom  \n",
       "0       0               0  \n",
       "1       0               0  \n",
       "2       0               0  \n",
       "3       0               0  \n",
       "4       0               0  \n",
       "\n",
       "[5 rows x 31 columns]"
      ]
     },
     "execution_count": 6,
     "metadata": {},
     "output_type": "execute_result"
    }
   ],
   "source": [
    "#Remove country column and make final cleaned data\n",
    "data = numeric.drop(columns=[\"Country\"])\n",
    "data.reset_index(inplace=True,drop=True)\n",
    "data.head()"
   ]
  },
  {
   "cell_type": "markdown",
   "id": "d779e368",
   "metadata": {},
   "source": [
    "# TODO: Remove Outliers"
   ]
  },
  {
   "cell_type": "code",
   "execution_count": null,
   "id": "10f66d5c",
   "metadata": {},
   "outputs": [],
   "source": []
  },
  {
   "cell_type": "markdown",
   "id": "4ba8e93f",
   "metadata": {},
   "source": [
    "# Linear Regression on log price"
   ]
  },
  {
   "cell_type": "code",
   "execution_count": 7,
   "id": "ffe40c45",
   "metadata": {},
   "outputs": [
    {
     "data": {
      "text/html": [
       "<div>\n",
       "<style scoped>\n",
       "    .dataframe tbody tr th:only-of-type {\n",
       "        vertical-align: middle;\n",
       "    }\n",
       "\n",
       "    .dataframe tbody tr th {\n",
       "        vertical-align: top;\n",
       "    }\n",
       "\n",
       "    .dataframe thead th {\n",
       "        text-align: right;\n",
       "    }\n",
       "</style>\n",
       "<table border=\"1\" class=\"dataframe\">\n",
       "  <thead>\n",
       "    <tr style=\"text-align: right;\">\n",
       "      <th></th>\n",
       "      <th>Rating</th>\n",
       "      <th>NumRatings</th>\n",
       "      <th>Type</th>\n",
       "      <th>Year</th>\n",
       "      <th>Body</th>\n",
       "      <th>Acidity</th>\n",
       "      <th>Vintage</th>\n",
       "      <th>Nat</th>\n",
       "      <th>Size</th>\n",
       "      <th>United States</th>\n",
       "      <th>...</th>\n",
       "      <th>NONE</th>\n",
       "      <th>Greece</th>\n",
       "      <th>Uruguay</th>\n",
       "      <th>Mexico</th>\n",
       "      <th>New Zealand</th>\n",
       "      <th>Germany</th>\n",
       "      <th>Hungary</th>\n",
       "      <th>Austria</th>\n",
       "      <th>Brazil</th>\n",
       "      <th>United Kingdom</th>\n",
       "    </tr>\n",
       "  </thead>\n",
       "  <tbody>\n",
       "    <tr>\n",
       "      <th>0</th>\n",
       "      <td>3.5</td>\n",
       "      <td>1957</td>\n",
       "      <td>1</td>\n",
       "      <td>2011</td>\n",
       "      <td>4</td>\n",
       "      <td>3</td>\n",
       "      <td>0</td>\n",
       "      <td>0</td>\n",
       "      <td>500</td>\n",
       "      <td>1</td>\n",
       "      <td>...</td>\n",
       "      <td>0</td>\n",
       "      <td>0</td>\n",
       "      <td>0</td>\n",
       "      <td>0</td>\n",
       "      <td>0</td>\n",
       "      <td>0</td>\n",
       "      <td>0</td>\n",
       "      <td>0</td>\n",
       "      <td>0</td>\n",
       "      <td>0</td>\n",
       "    </tr>\n",
       "    <tr>\n",
       "      <th>1</th>\n",
       "      <td>3.2</td>\n",
       "      <td>3101</td>\n",
       "      <td>1</td>\n",
       "      <td>2016</td>\n",
       "      <td>4</td>\n",
       "      <td>3</td>\n",
       "      <td>0</td>\n",
       "      <td>0</td>\n",
       "      <td>750</td>\n",
       "      <td>1</td>\n",
       "      <td>...</td>\n",
       "      <td>0</td>\n",
       "      <td>0</td>\n",
       "      <td>0</td>\n",
       "      <td>0</td>\n",
       "      <td>0</td>\n",
       "      <td>0</td>\n",
       "      <td>0</td>\n",
       "      <td>0</td>\n",
       "      <td>0</td>\n",
       "      <td>0</td>\n",
       "    </tr>\n",
       "    <tr>\n",
       "      <th>2</th>\n",
       "      <td>3.2</td>\n",
       "      <td>1466</td>\n",
       "      <td>1</td>\n",
       "      <td>2016</td>\n",
       "      <td>3</td>\n",
       "      <td>3</td>\n",
       "      <td>0</td>\n",
       "      <td>0</td>\n",
       "      <td>750</td>\n",
       "      <td>1</td>\n",
       "      <td>...</td>\n",
       "      <td>0</td>\n",
       "      <td>0</td>\n",
       "      <td>0</td>\n",
       "      <td>0</td>\n",
       "      <td>0</td>\n",
       "      <td>0</td>\n",
       "      <td>0</td>\n",
       "      <td>0</td>\n",
       "      <td>0</td>\n",
       "      <td>0</td>\n",
       "    </tr>\n",
       "    <tr>\n",
       "      <th>3</th>\n",
       "      <td>3.8</td>\n",
       "      <td>50</td>\n",
       "      <td>4</td>\n",
       "      <td>2017</td>\n",
       "      <td>3</td>\n",
       "      <td>2</td>\n",
       "      <td>0</td>\n",
       "      <td>0</td>\n",
       "      <td>750</td>\n",
       "      <td>1</td>\n",
       "      <td>...</td>\n",
       "      <td>0</td>\n",
       "      <td>0</td>\n",
       "      <td>0</td>\n",
       "      <td>0</td>\n",
       "      <td>0</td>\n",
       "      <td>0</td>\n",
       "      <td>0</td>\n",
       "      <td>0</td>\n",
       "      <td>0</td>\n",
       "      <td>0</td>\n",
       "    </tr>\n",
       "    <tr>\n",
       "      <th>4</th>\n",
       "      <td>3.7</td>\n",
       "      <td>7880</td>\n",
       "      <td>4</td>\n",
       "      <td>2018</td>\n",
       "      <td>3</td>\n",
       "      <td>2</td>\n",
       "      <td>0</td>\n",
       "      <td>0</td>\n",
       "      <td>750</td>\n",
       "      <td>1</td>\n",
       "      <td>...</td>\n",
       "      <td>0</td>\n",
       "      <td>0</td>\n",
       "      <td>0</td>\n",
       "      <td>0</td>\n",
       "      <td>0</td>\n",
       "      <td>0</td>\n",
       "      <td>0</td>\n",
       "      <td>0</td>\n",
       "      <td>0</td>\n",
       "      <td>0</td>\n",
       "    </tr>\n",
       "  </tbody>\n",
       "</table>\n",
       "<p>5 rows × 30 columns</p>\n",
       "</div>"
      ],
      "text/plain": [
       "   Rating  NumRatings  Type  Year  Body  Acidity  Vintage  Nat  Size  \\\n",
       "0     3.5        1957     1  2011     4        3        0    0   500   \n",
       "1     3.2        3101     1  2016     4        3        0    0   750   \n",
       "2     3.2        1466     1  2016     3        3        0    0   750   \n",
       "3     3.8          50     4  2017     3        2        0    0   750   \n",
       "4     3.7        7880     4  2018     3        2        0    0   750   \n",
       "\n",
       "   United States  ...  NONE  Greece  Uruguay  Mexico  New Zealand  Germany  \\\n",
       "0              1  ...     0       0        0       0            0        0   \n",
       "1              1  ...     0       0        0       0            0        0   \n",
       "2              1  ...     0       0        0       0            0        0   \n",
       "3              1  ...     0       0        0       0            0        0   \n",
       "4              1  ...     0       0        0       0            0        0   \n",
       "\n",
       "   Hungary  Austria  Brazil  United Kingdom  \n",
       "0        0        0       0               0  \n",
       "1        0        0       0               0  \n",
       "2        0        0       0               0  \n",
       "3        0        0       0               0  \n",
       "4        0        0       0               0  \n",
       "\n",
       "[5 rows x 30 columns]"
      ]
     },
     "execution_count": 7,
     "metadata": {},
     "output_type": "execute_result"
    }
   ],
   "source": [
    "#Create X and y\n",
    "#Create log price column\n",
    "data['log_price'] = np.log(data[\"Price\"])\n",
    "\n",
    "#X is every column but log price, y is only log price\n",
    "X = data.drop(columns=[\"log_price\",\"Price\"])\n",
    "y = data[[\"log_price\"]].values.ravel()\n",
    "X.head()"
   ]
  },
  {
   "cell_type": "markdown",
   "id": "d1433ae0",
   "metadata": {},
   "source": [
    "# Linear Regression with scaled data"
   ]
  },
  {
   "cell_type": "code",
   "execution_count": 8,
   "id": "0001cdf0",
   "metadata": {},
   "outputs": [
    {
     "data": {
      "text/plain": [
       "0.6799687472224125"
      ]
     },
     "execution_count": 8,
     "metadata": {},
     "output_type": "execute_result"
    }
   ],
   "source": [
    "#Scale X\n",
    "scaler = StandardScaler().fit(X)\n",
    "X_scaled = scaler.transform(X)\n",
    "X_scaled = pd.DataFrame(X_scaled, columns=X.columns)\n",
    "\n",
    "reg = LinearRegression().fit(X_scaled, y)\n",
    "reg.score(X_scaled, y)"
   ]
  },
  {
   "cell_type": "code",
   "execution_count": 9,
   "id": "c4f54a3f",
   "metadata": {},
   "outputs": [
    {
     "data": {
      "text/plain": [
       "array([  7.05338031,   5.3534978 ,   6.26881321, ..., 122.50125023,\n",
       "       147.41339706,  40.36335267])"
      ]
     },
     "execution_count": 9,
     "metadata": {},
     "output_type": "execute_result"
    }
   ],
   "source": [
    "np.exp(reg.predict(X_scaled))"
   ]
  },
  {
   "cell_type": "markdown",
   "id": "0d1b9184",
   "metadata": {},
   "source": [
    "# PCA Linear Regression with scaling"
   ]
  },
  {
   "cell_type": "code",
   "execution_count": 10,
   "id": "3d708beb",
   "metadata": {},
   "outputs": [
    {
     "data": {
      "text/plain": [
       "0.5371966901283736"
      ]
     },
     "execution_count": 10,
     "metadata": {},
     "output_type": "execute_result"
    }
   ],
   "source": [
    "#Scale X\n",
    "scaler = StandardScaler().fit(X)\n",
    "X_scaled = scaler.transform(X)\n",
    "X_scaled = pd.DataFrame(X_scaled, columns=X.columns)\n",
    "\n",
    "#Transform X\n",
    "pca_scaled = PCA(n_components=len(list(X_scaled.columns)))\n",
    "X_transformed = pca_scaled.fit_transform(X_scaled)\n",
    "X_transformed = X_transformed[:, :15]\n",
    "\n",
    "#Train on X scaled and transformed\n",
    "reg = LinearRegression().fit(X_transformed, y)\n",
    "reg.score(X_transformed, y)"
   ]
  },
  {
   "cell_type": "code",
   "execution_count": 11,
   "id": "e7e0d23a",
   "metadata": {},
   "outputs": [
    {
     "data": {
      "text/plain": [
       "array([ 8.42996422,  7.70594391,  8.08955904, ..., 66.45593336,\n",
       "       66.94631131, 26.27288416])"
      ]
     },
     "execution_count": 11,
     "metadata": {},
     "output_type": "execute_result"
    }
   ],
   "source": [
    "np.exp(reg.predict(X_transformed[:,:]))"
   ]
  },
  {
   "cell_type": "markdown",
   "id": "d5ef6080",
   "metadata": {},
   "source": [
    "# Straight Gradient Boosting"
   ]
  },
  {
   "cell_type": "code",
   "execution_count": 12,
   "id": "e7254cc0",
   "metadata": {},
   "outputs": [
    {
     "data": {
      "text/plain": [
       "0.9194966787625258"
      ]
     },
     "execution_count": 12,
     "metadata": {},
     "output_type": "execute_result"
    }
   ],
   "source": [
    "reg = GradientBoostingRegressor().fit(X, y)\n",
    "reg.score(X, y)"
   ]
  },
  {
   "cell_type": "code",
   "execution_count": 13,
   "id": "4f8ae195",
   "metadata": {},
   "outputs": [
    {
     "data": {
      "text/plain": [
       "array([  7.88316275,   9.05999147,   9.13010406, ..., 436.81829434,\n",
       "       300.53741959,  22.69975446])"
      ]
     },
     "execution_count": 13,
     "metadata": {},
     "output_type": "execute_result"
    }
   ],
   "source": [
    "np.exp(reg.predict(X))"
   ]
  },
  {
   "cell_type": "markdown",
   "id": "4799d4dd",
   "metadata": {},
   "source": [
    "# GradientBoosting regression with scaling"
   ]
  },
  {
   "cell_type": "code",
   "execution_count": 14,
   "id": "f235323f",
   "metadata": {},
   "outputs": [
    {
     "data": {
      "text/plain": [
       "0.9194966787625258"
      ]
     },
     "execution_count": 14,
     "metadata": {},
     "output_type": "execute_result"
    }
   ],
   "source": [
    "scaler = StandardScaler().fit(X)\n",
    "X_scaled = scaler.transform(X)\n",
    "X_scaled = pd.DataFrame(X_scaled, columns=X.columns)\n",
    "\n",
    "reg = GradientBoostingRegressor().fit(X_scaled, y)\n",
    "reg.score(X_scaled, y)"
   ]
  },
  {
   "cell_type": "code",
   "execution_count": 15,
   "id": "a75ceccd",
   "metadata": {},
   "outputs": [
    {
     "data": {
      "text/plain": [
       "array([  7.88316275,   9.05999147,   9.13010406, ..., 436.81829434,\n",
       "       300.53741959,  22.69975446])"
      ]
     },
     "execution_count": 15,
     "metadata": {},
     "output_type": "execute_result"
    }
   ],
   "source": [
    "np.exp(reg.predict(X_scaled))"
   ]
  },
  {
   "cell_type": "markdown",
   "id": "bb60365e",
   "metadata": {},
   "source": [
    "# PCA GradientBoosting regression with scaling"
   ]
  },
  {
   "cell_type": "code",
   "execution_count": 16,
   "id": "108b040d",
   "metadata": {},
   "outputs": [
    {
     "data": {
      "text/plain": [
       "0.9074566551141494"
      ]
     },
     "execution_count": 16,
     "metadata": {},
     "output_type": "execute_result"
    }
   ],
   "source": [
    "#Scale X\n",
    "scaler = StandardScaler().fit(X)\n",
    "X_scaled = scaler.transform(X)\n",
    "X_scaled = pd.DataFrame(X_scaled, columns=X.columns)\n",
    "\n",
    "#Transform X\n",
    "pca_scaled = PCA(n_components=len(list(X_scaled.columns)))\n",
    "X_transformed = pca_scaled.fit_transform(X_scaled)\n",
    "X_transformed = X_transformed[:, :10]\n",
    "\n",
    "#Train on X scaled and transformed\n",
    "reg = GradientBoostingRegressor().fit(X_transformed, y)\n",
    "reg.score(X_transformed, y)"
   ]
  },
  {
   "cell_type": "code",
   "execution_count": 17,
   "id": "4a598746",
   "metadata": {},
   "outputs": [
    {
     "data": {
      "text/plain": [
       "array([ 10.27943425,   9.9137894 ,  10.33711909, ..., 395.87033649,\n",
       "       329.6152157 ,  21.04016726])"
      ]
     },
     "execution_count": 17,
     "metadata": {},
     "output_type": "execute_result"
    }
   ],
   "source": [
    "np.exp(reg.predict(X_transformed[:,:10]))"
   ]
  },
  {
   "cell_type": "markdown",
   "id": "64f25bf4",
   "metadata": {},
   "source": [
    "# PCA RandomForest regression with scaling"
   ]
  },
  {
   "cell_type": "code",
   "execution_count": 18,
   "id": "3824af05",
   "metadata": {},
   "outputs": [
    {
     "data": {
      "text/plain": [
       "0.9848417734733748"
      ]
     },
     "execution_count": 18,
     "metadata": {},
     "output_type": "execute_result"
    }
   ],
   "source": [
    "#Scale X\n",
    "scaler = StandardScaler().fit(X)\n",
    "X_scaled = scaler.transform(X)\n",
    "X_scaled = pd.DataFrame(X_scaled, columns=X.columns)\n",
    "\n",
    "#Transform X\n",
    "pca_scaled = PCA(n_components=len(list(X_scaled.columns)))\n",
    "X_transformed = pca_scaled.fit_transform(X_scaled)\n",
    "X_transformed = X_transformed[:, :10]\n",
    "\n",
    "#Train on X scaled and transformed\n",
    "reg = RandomForestRegressor().fit(X_transformed, y)\n",
    "reg.score(X_transformed, y)"
   ]
  },
  {
   "cell_type": "code",
   "execution_count": 19,
   "id": "39fe39c4",
   "metadata": {},
   "outputs": [
    {
     "data": {
      "text/plain": [
       "array([  6.10652598,   6.20073283,   6.93349578, ..., 414.36750613,\n",
       "       333.33589005,  15.28276686])"
      ]
     },
     "execution_count": 19,
     "metadata": {},
     "output_type": "execute_result"
    }
   ],
   "source": [
    "np.exp(reg.predict(X_transformed[:,:10]))"
   ]
  },
  {
   "cell_type": "markdown",
   "id": "faaa1705",
   "metadata": {},
   "source": [
    "# PCA Bagging regression with scaling"
   ]
  },
  {
   "cell_type": "code",
   "execution_count": 20,
   "id": "4fd93791",
   "metadata": {},
   "outputs": [
    {
     "data": {
      "text/plain": [
       "0.9809503178024419"
      ]
     },
     "execution_count": 20,
     "metadata": {},
     "output_type": "execute_result"
    }
   ],
   "source": [
    "#Scale X\n",
    "scaler = StandardScaler().fit(X)\n",
    "X_scaled = scaler.transform(X)\n",
    "X_scaled = pd.DataFrame(X_scaled, columns=X.columns)\n",
    "\n",
    "#Transform X\n",
    "pca_scaled = PCA(n_components=len(list(X_scaled.columns)))\n",
    "X_transformed = pca_scaled.fit_transform(X_scaled)\n",
    "X_transformed = X_transformed[:, :10]\n",
    "\n",
    "#Train on X scaled and transformed\n",
    "reg = BaggingRegressor().fit(X_transformed, y)\n",
    "reg.score(X_transformed, y)"
   ]
  },
  {
   "cell_type": "code",
   "execution_count": null,
   "id": "ad2fde86",
   "metadata": {},
   "outputs": [],
   "source": [
    "np.exp(reg.predict(X_transformed[:,:10]))"
   ]
  },
  {
   "cell_type": "markdown",
   "id": "b0eefab3",
   "metadata": {},
   "source": [
    "# TODO\n",
    "- Do each regression technique for all models side by side\n",
    "    - r squared versus model type\n",
    "- Cross validation on \"good\" models\n",
    "- Final model analysis"
   ]
  },
  {
   "cell_type": "markdown",
   "id": "0184ccf4",
   "metadata": {},
   "source": [
    "# Linear Regression Observations\n",
    "Straight linear regression "
   ]
  },
  {
   "cell_type": "markdown",
   "id": "376f2b2a",
   "metadata": {},
   "source": [
    "# KMeans Clustering"
   ]
  },
  {
   "cell_type": "code",
   "execution_count": null,
   "id": "7c36dd56",
   "metadata": {},
   "outputs": [],
   "source": [
    "index = len(data)*(2/3)\n",
    "X_train, X_test = data.loc[:index,:], data.loc[index:,:]"
   ]
  },
  {
   "cell_type": "code",
   "execution_count": null,
   "id": "f83689c3",
   "metadata": {},
   "outputs": [],
   "source": [
    "X_train, X_test"
   ]
  },
  {
   "cell_type": "code",
   "execution_count": null,
   "id": "79a6bdfe",
   "metadata": {},
   "outputs": [],
   "source": [
    "#Kmeans\n",
    "kmeans = KMeans(n_clusters=10, random_state=0).fit(X_train)"
   ]
  },
  {
   "cell_type": "code",
   "execution_count": null,
   "id": "68e73b7e",
   "metadata": {},
   "outputs": [],
   "source": [
    "cluster_map = pd.DataFrame()\n",
    "cluster_map['data_index'] = X_train.index.values\n",
    "cluster_map['cluster'] = kmeans.labels_\n",
    "\n",
    "cluster_indexs = {}\n",
    "for cluster in range(10):\n",
    "    cluster_indexs[cluster] = cluster_map[cluster_map.cluster == cluster].data_index.values\n",
    "cluster_indexs"
   ]
  },
  {
   "cell_type": "markdown",
   "id": "f261334b",
   "metadata": {},
   "source": [
    "# Regression Analysis"
   ]
  },
  {
   "cell_type": "code",
   "execution_count": 41,
   "id": "96e0a2b7",
   "metadata": {},
   "outputs": [
    {
     "name": "stdout",
     "output_type": "stream",
     "text": [
      ">LinearRegression: ideal=0.306, cv=0.305\n",
      ">Ridge: ideal=0.306, cv=0.305\n",
      ">Lasso: ideal=0.656, cv=0.657\n",
      ">DecisionTreeRegressor: ideal=0.108, cv=0.107\n",
      ">BaggingRegressor: ideal=0.074, cv=0.073\n",
      ">RandomForestRegressor: ideal=0.071, cv=0.070\n",
      ">GradientBoostingRegressor: ideal=0.078, cv=0.077\n",
      "Correlation: 1.000\n"
     ]
    },
    {
     "data": {
      "image/png": "[encoded data removed]",
      "text/plain": [
       "<Figure size 432x288 with 1 Axes>"
      ]
     },
     "metadata": {
      "needs_background": "light"
     },
     "output_type": "display_data"
    }
   ],
   "source": [
    "import pandas as pd\n",
    "import numpy as np\n",
    "import matplotlib.pyplot as plt\n",
    "from scipy.stats import pearsonr\n",
    "from sklearn.datasets import make_classification\n",
    "from sklearn.model_selection import KFold\n",
    "from sklearn.model_selection import LeaveOneOut\n",
    "from sklearn.model_selection import cross_val_score\n",
    "from sklearn.preprocessing import StandardScaler\n",
    "from sklearn.linear_model import LinearRegression\n",
    "from sklearn.linear_model import Ridge\n",
    "from sklearn.linear_model import Lasso\n",
    "from sklearn.tree import DecisionTreeRegressor\n",
    "from sklearn.ensemble import BaggingRegressor\n",
    "from sklearn.ensemble import RandomForestRegressor\n",
    "from sklearn.ensemble import GradientBoostingRegressor\n",
    "from sklearn.decomposition import PCA\n",
    "\n",
    "def clean_dataset(df):\n",
    "    #Drop all categorical/useless columns\n",
    "    numeric = df.drop(columns=['Unnamed: 0', 'Id', 'Name', 'StyleName', 'Region', 'Winery'])\n",
    "    #Drop all records with body or acidity = -1\n",
    "    numeric = numeric.loc[~((numeric[\"Body\"] == -1) | (numeric[\"Acidity\"] == -1) | (numeric[\"Year\"] == 0))]\n",
    "    numeric.head()\n",
    "\n",
    "    #Making dummy columns for each country\n",
    "    countries = numeric.Country.unique()\n",
    "\n",
    "    for country in countries:\n",
    "        numeric[country] = np.where(numeric[\"Country\"] == country, 1, 0)\n",
    "\n",
    "    #Remove country column and make final cleaned data\n",
    "    data = numeric.drop(columns=[\"Country\"])\n",
    "    data.reset_index(inplace=True,drop=True)\n",
    "    return data\n",
    "\n",
    "def get_dataset(scale=False, pca=False, n_pc=15):\n",
    "    df = pd.read_csv(\"WineData.csv\")\n",
    "    df_cleaned = clean_dataset(df)\n",
    "\n",
    "    #Create X and y\n",
    "    #Create log price column\n",
    "    df_cleaned['log_price'] = np.log(df_cleaned[\"Price\"])\n",
    "\n",
    "    #X is every column but log price, y is only log price\n",
    "    X = df_cleaned.drop(columns=[\"log_price\",\"Price\"])\n",
    "    y = df_cleaned[[\"log_price\"]].values.ravel()\n",
    "\n",
    "    if scale:\n",
    "        #Scale the data\n",
    "        scaler = StandardScaler().fit(X)\n",
    "        X_scaled = scaler.transform(X)\n",
    "        X = pd.DataFrame(X_scaled, columns=X.columns)\n",
    "\n",
    "    if pca:\n",
    "        #PCA transform the data\n",
    "        pca_scaled = PCA(n_components=len(list(X.columns)))\n",
    "        X_transformed = pca_scaled.fit_transform(X)\n",
    "        X = X_transformed[:, :n_pc]\n",
    "\n",
    "    return X, y\n",
    "\n",
    "# get a list of models to evaluate\n",
    "def get_models():\n",
    "    models = list()\n",
    "    models.append(LinearRegression())\n",
    "    models.append(Ridge())\n",
    "    models.append(Lasso())\n",
    "    models.append(DecisionTreeRegressor())\n",
    "    models.append(BaggingRegressor())\n",
    "    models.append(RandomForestRegressor())\n",
    "    models.append(GradientBoostingRegressor())\n",
    "    return models\n",
    "\n",
    "def scoring(estimator, X, y):\n",
    "    y_hat = estimator.predict(X)\n",
    "    return np.mean((y_hat-y)**2)\n",
    "\n",
    "# evaluate the model using a given test condition\n",
    "def evaluate_model(cv, model):\n",
    "    # get the dataset\n",
    "    #X, y = get_dataset(scale=True,pca=True) #Which dataset? scale, pca params\n",
    "    # evaluate the model\n",
    "    scores = cross_val_score(model, X, y, scoring=scoring, cv=cv, n_jobs=-1)\n",
    "    # return scores\n",
    "    return np.mean(scores)\n",
    "\n",
    "X,y = get_dataset(scale=True, pca = True)\n",
    "\n",
    "# define test conditions\n",
    "#ideal_cv = LeaveOneOut()\n",
    "ideal_cv = KFold(n_splits=100, shuffle=True, random_state=1)\n",
    "cv = KFold(n_splits=10, shuffle=True, random_state=1)\n",
    "# get the list of models to consider\n",
    "models = get_models()\n",
    "# collect results\n",
    "ideal_results, cv_results = list(), list()\n",
    "# evaluate each model\n",
    "for model in models:\n",
    "    # evaluate model using each test condition\n",
    "    cv_mean = evaluate_model(cv, model)\n",
    "    ideal_mean = evaluate_model(ideal_cv, model)\n",
    "    # check for invalid results\n",
    "    if np.isnan(cv_mean) or np.isnan(ideal_mean):\n",
    "        continue\n",
    "    # store results\n",
    "    cv_results.append(cv_mean)\n",
    "    ideal_results.append(ideal_mean)\n",
    "    # summarize progress\n",
    "    print('>%s: ideal=%.3f, cv=%.3f' % (type(model).__name__, ideal_mean, cv_mean))\n",
    "# calculate the correlation between each test condition\n",
    "corr, _ = pearsonr(cv_results, ideal_results)\n",
    "print('Correlation: %.3f' % corr)\n",
    "# scatter plot of results\n",
    "plt.scatter(cv_results, ideal_results)\n",
    "# plot the line of best fit\n",
    "coeff, bias = np.polyfit(cv_results, ideal_results, 1)\n",
    "line = coeff * np.asarray(cv_results) + bias\n",
    "plt.plot(cv_results, line, color='r')\n",
    "# label the plot\n",
    "plt.title('10-fold CV vs LOOCV Mean Accuracy')\n",
    "plt.xlabel('Mean Accuracy (10-fold CV)')\n",
    "plt.ylabel('Mean Accuracy (LOOCV)')\n",
    "# show the plot\n",
    "plt.show()"
   ]
  },
  {
   "cell_type": "code",
   "execution_count": 42,
   "id": "25846b49",
   "metadata": {},
   "outputs": [],
   "source": [
    "#Looking at constant variance for each model using a validation set\n",
    "\n",
    "#Split into train and test sets\n",
    "index = int(1/2*len(X))\n",
    "X_train, X_test = X[:index,:], X[index+1:,:]\n",
    "y_train, y_test = y[:index], y[index+1:]"
   ]
  },
  {
   "cell_type": "code",
   "execution_count": 43,
   "id": "efda6df1",
   "metadata": {},
   "outputs": [
    {
     "name": "stdout",
     "output_type": "stream",
     "text": [
      "LinearRegression\n",
      "train score : 0.5980538542981442\n",
      "test score : 0.2557367801808851\n"
     ]
    },
    {
     "data": {
      "image/png": "[encoded data removed]",
      "text/plain": [
       "<Figure size 432x288 with 1 Axes>"
      ]
     },
     "metadata": {
      "needs_background": "light"
     },
     "output_type": "display_data"
    },
    {
     "name": "stdout",
     "output_type": "stream",
     "text": [
      "Ridge\n",
      "train score : 0.598053816349285\n",
      "test score : 0.25616332302572875\n"
     ]
    },
    {
     "data": {
      "image/png": "[encoded data removed]",
      "text/plain": [
       "<Figure size 432x288 with 1 Axes>"
      ]
     },
     "metadata": {
      "needs_background": "light"
     },
     "output_type": "display_data"
    },
    {
     "name": "stdout",
     "output_type": "stream",
     "text": [
      "Lasso\n",
      "train score : 0.0\n",
      "test score : -0.012101135096789006\n"
     ]
    },
    {
     "data": {
      "image/png": "[encoded data removed]",
      "text/plain": [
       "<Figure size 432x288 with 1 Axes>"
      ]
     },
     "metadata": {
      "needs_background": "light"
     },
     "output_type": "display_data"
    },
    {
     "name": "stdout",
     "output_type": "stream",
     "text": [
      "DecisionTreeRegressor\n",
      "train score : 1.0\n",
      "test score : 0.5153361274027956\n"
     ]
    },
    {
     "data": {
      "image/png": "[encoded data removed]",
      "text/plain": [
       "<Figure size 432x288 with 1 Axes>"
      ]
     },
     "metadata": {
      "needs_background": "light"
     },
     "output_type": "display_data"
    },
    {
     "name": "stdout",
     "output_type": "stream",
     "text": [
      "BaggingRegressor\n",
      "train score : 0.9813266495331623\n",
      "test score : 0.5449073952898444\n"
     ]
    },
    {
     "data": {
      "image/png": "[encoded data removed]",
      "text/plain": [
       "<Figure size 432x288 with 1 Axes>"
      ]
     },
     "metadata": {
      "needs_background": "light"
     },
     "output_type": "display_data"
    },
    {
     "name": "stdout",
     "output_type": "stream",
     "text": [
      "RandomForestRegressor\n",
      "train score : 0.9866952697666005\n",
      "test score : 0.633625813914986\n"
     ]
    },
    {
     "data": {
      "image/png": "[encoded data removed]",
      "text/plain": [
       "<Figure size 432x288 with 1 Axes>"
      ]
     },
     "metadata": {
      "needs_background": "light"
     },
     "output_type": "display_data"
    },
    {
     "name": "stdout",
     "output_type": "stream",
     "text": [
      "GradientBoostingRegressor\n",
      "train score : 0.9350071170489032\n",
      "test score : 0.6827241004838454\n"
     ]
    },
    {
     "data": {
      "image/png": "[encoded data removed]",
      "text/plain": [
       "<Figure size 432x288 with 1 Axes>"
      ]
     },
     "metadata": {
      "needs_background": "light"
     },
     "output_type": "display_data"
    }
   ],
   "source": [
    "for model in models:\n",
    "    print(type(model).__name__)\n",
    "    model.fit(X_train,y_train)\n",
    "    print(f\"train score : {model.score(X_train, y_train)}\\ntest score : {model.score(X_test, y_test)}\")\n",
    "    y_hat = model.predict(X_test)\n",
    "    plt.scatter(y_test,y_test-y_hat)\n",
    "    plt.show()"
   ]
  },
  {
   "cell_type": "code",
   "execution_count": null,
   "id": "0b55aa1b",
   "metadata": {},
   "outputs": [],
   "source": []
  }
 ],
 "metadata": {
  "kernelspec": {
   "display_name": "Python 3",
   "language": "python",
   "name": "python3"
  },
  "language_info": {
   "codemirror_mode": {
    "name": "ipython",
    "version": 3
   },
   "file_extension": ".py",
   "mimetype": "text/x-python",
   "name": "python",
   "nbconvert_exporter": "python",
   "pygments_lexer": "ipython3",
   "version": "3.8.8"
  }
 },
 "nbformat": 4,
 "nbformat_minor": 5
}
