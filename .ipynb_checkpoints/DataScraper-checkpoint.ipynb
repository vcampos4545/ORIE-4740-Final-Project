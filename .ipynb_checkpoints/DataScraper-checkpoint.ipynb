{
 "cells": [
  {
   "cell_type": "code",
   "execution_count": 88,
   "id": "6323b1e7",
   "metadata": {},
   "outputs": [],
   "source": [
    "import requests\n",
    "import mysql.connector as conn\n",
    "from config import aws_db_config"
   ]
  },
  {
   "cell_type": "markdown",
   "id": "edc8d366",
   "metadata": {},
   "source": [
    "# Params\n",
    "- wine_type_ids,\n",
    "    - 1 : red\n",
    "    - 2 : white\n",
    "    - 3 : sparkling\n",
    "    - 4 : Rose\n",
    "    - 5 : DOESN\n",
    "    "
   ]
  },
  {
   "cell_type": "code",
   "execution_count": 76,
   "id": "d86a26e6",
   "metadata": {},
   "outputs": [],
   "source": [
    "params = {\n",
    "        \"currency_code\":\"USD\",\n",
    "        \"min_rating\":\"1\",\n",
    "        \"order_by\":\"price\",\n",
    "        \"order\":\"asc\",\n",
    "        \"page\": 1,\n",
    "        \"price_range_max\":\"500\",\n",
    "        \"price_range_min\":\"0\",\n",
    "        \"wine_type_ids[]\":\"1\"\n",
    "}"
   ]
  },
  {
   "cell_type": "code",
   "execution_count": 82,
   "id": "3f5e1c77",
   "metadata": {},
   "outputs": [
    {
     "data": {
      "text/plain": [
       "49578"
      ]
     },
     "execution_count": 82,
     "metadata": {},
     "output_type": "execute_result"
    }
   ],
   "source": [
    "json[\"explore_vintage\"][\"records_matched\"]"
   ]
  },
  {
   "cell_type": "code",
   "execution_count": 125,
   "id": "cbb9930a",
   "metadata": {},
   "outputs": [
    {
     "data": {
      "text/plain": [
       "[{'id': 1,\n",
       "  'name': 'Shiraz/Syrah',\n",
       "  'seo_name': 'shiraz-syrah',\n",
       "  'has_detailed_info': True,\n",
       "  'wines_count': 551112},\n",
       " {'id': 2,\n",
       "  'name': 'Cabernet Sauvignon',\n",
       "  'seo_name': 'cabernet-sauvignon',\n",
       "  'has_detailed_info': True,\n",
       "  'wines_count': 801751},\n",
       " {'id': 10,\n",
       "  'name': 'Merlot',\n",
       "  'seo_name': 'merlot',\n",
       "  'has_detailed_info': True,\n",
       "  'wines_count': 566719},\n",
       " {'id': 21,\n",
       "  'name': 'Zinfandel',\n",
       "  'seo_name': 'zinfandel',\n",
       "  'has_detailed_info': True,\n",
       "  'wines_count': 67990}]"
      ]
     },
     "execution_count": 125,
     "metadata": {},
     "output_type": "execute_result"
    }
   ],
   "source": [
    "wine[\"style\"][\"grapes\"]"
   ]
  },
  {
   "cell_type": "code",
   "execution_count": null,
   "id": "93161634",
   "metadata": {},
   "outputs": [],
   "source": [
    "def get_matches(params):\n",
    "    response = requests.get(\"https://www.vivino.com/api/explore/explore\", params=params,\n",
    "        headers= {\n",
    "            \"User-Agent\": \"Mozilla/5.0 (Windows NT 10.0; Win64; x64; rv:66.0) Gecko/20100101 Firefox/66.0\"\n",
    "        })\n",
    "    json = response.json()\n",
    "    \n",
    "    matches = json[\"explore_vintage\"][\"matches\"]\n",
    "    numMatches = json[\"explore_vintage\"][\"records_matched\"]\n",
    "    \n",
    "    return matches, numMatches"
   ]
  },
  {
   "cell_type": "code",
   "execution_count": 131,
   "id": "9cc74613",
   "metadata": {},
   "outputs": [],
   "source": [
    "def match_to_db(cnx, cursor, match):\n",
    "    \"\"\"\n",
    "    Assumes that the Database \"WineData\" and table \"WineData\" already exist with \n",
    "    columns (Id, Name, Price, Rating, NumRatings, Type, Year, )\n",
    "    \"\"\"\n",
    "    wine = match[\"vintage\"][\"wine\"]\n",
    "    \n",
    "    Id = match[\"vintage\"][\"Id\"] #Wine id\n",
    "    Name = match[\"vintage\"][\"Name\"] #Wine name\n",
    "    Price = match[\"price\"][\"amount\"] #Price of bottle\n",
    "    Rating = wine['statistics'][\"ratings_average\"] #Wine rating\n",
    "    NumRatings = wine['statistics']['ratings_count'] #Number of ratings\n",
    "    Type = wine[\"type_id\"] #Type of wine (Red, White, Rose)\n",
    "    StyleName = wine[\"style\"][\"name\"]\n",
    "    Year = match[\"vintage\"][\"year\"] #Wine year\n",
    "    Body = wine['style']['body'] #Body\n",
    "    Acidity = wine['style']['acidity']\n",
    "    Vintage = wine[\"vintage_type\"]\n",
    "    Natural = int(wine[\"is_natural\"])\n",
    "    Region = wine['region'][\"name\"] #Wine region\n",
    "    Country = wine['region'][\"country\"][\"name\"] #Wine country\n",
    "    Size = match[\"price\"][\"bottle_type\"]['volume_ml'] #size of bottle\n",
    "    Winery = wine[\"winery\"][\"name\"] #Winery\n",
    "    \n",
    "    wine['style']['food']\n",
    "    wine['style']['grapes']\n",
    "    \n",
    "    query = (\n",
    "        f'INSERT INTO WineData (Id,Name,Price,Rating,NumRatings,Type,StyleName,Year,Body,Acidity,Vintage,Natural,Region,Country,Size,Winery,Food,Grapes)'\n",
    "        f'VALUES ({Id},{Name},{Price},{Rating},{NumRatings},{Type},{StyleName},{Year},{Body},{Acidity},{Vintage},{Natural},{Region},{Country},{Size},{Winery},{Food},{Grapes})'\n",
    "    )\n",
    "    cursor.execute(query)\n",
    "    cnx.commit()"
   ]
  },
  {
   "cell_type": "code",
   "execution_count": null,
   "id": "51a4370f",
   "metadata": {},
   "outputs": [],
   "source": [
    "#Database connection\n",
    "cnx = conn.connect(**aws_db_config)"
   ]
  },
  {
   "cell_type": "code",
   "execution_count": null,
   "id": "2727c754",
   "metadata": {},
   "outputs": [],
   "source": [
    "params = {\n",
    "        \"currency_code\":\"USD\",\n",
    "        \"min_rating\":\"1\",\n",
    "        \"order_by\":\"price\",\n",
    "        \"order\":\"asc\",\n",
    "        \"page\": 1,\n",
    "        \"price_range_max\":\"500\",\n",
    "        \"price_range_min\":\"0\",\n",
    "        \"wine_type_ids[]\":\"1\"\n",
    "}\n",
    "\n",
    "matches = get_matches\n",
    "\n",
    "for wine_id in [1,2,3,4]:\n",
    "    matches = get_matches"
   ]
  }
 ],
 "metadata": {
  "kernelspec": {
   "display_name": "Python 3",
   "language": "python",
   "name": "python3"
  },
  "language_info": {
   "codemirror_mode": {
    "name": "ipython",
    "version": 3
   },
   "file_extension": ".py",
   "mimetype": "text/x-python",
   "name": "python",
   "nbconvert_exporter": "python",
   "pygments_lexer": "ipython3",
   "version": "3.8.8"
  }
 },
 "nbformat": 4,
 "nbformat_minor": 5
}
